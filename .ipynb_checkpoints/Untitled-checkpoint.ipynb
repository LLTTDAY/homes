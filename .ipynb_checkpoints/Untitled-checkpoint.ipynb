{
 "cells": [
  {
   "cell_type": "markdown",
   "metadata": {},
   "source": [
    "# Classifying Aerial Imagery With Keras"
   ]
  },
  {
   "cell_type": "markdown",
   "metadata": {},
   "source": [
    "This experiment uses the UC Merced land use imagery dataset, which contains X classes of aerial photos taken from the USGS Urban Area Imagery Survey. I grouped 1,900 labeled images into three new classes: paved, unpaved, and built. I will attempt to build a neural network that is capable of generalizing features common to the examples in each of the classes. While I can perceive commonalities between, say, an airport runway and a parking lot, or a "
   ]
  },
  {
   "cell_type": "code",
   "execution_count": 221,
   "metadata": {},
   "outputs": [],
   "source": [
    "import pandas as pd\n",
    "import numpy as np\n",
    "import tensorflow as tf\n",
    "from tensorflow import keras\n",
    "import os\n",
    "import numpy as np\n",
    "import matplotlib.pyplot as plt\n",
    "from sklearn import metrics\n",
    "import split_folders\n",
    "%config InlineBackend.figure_formats = set(['retina'])\n",
    "%matplotlib inline\n",
    "import seaborn as sns\n",
    "import pyplot_themes as themes\n",
    "os.environ[\"KMP_DUPLICATE_LIB_OK\"]=\"TRUE\""
   ]
  },
  {
   "cell_type": "code",
   "execution_count": 222,
   "metadata": {},
   "outputs": [],
   "source": [
    "# plot settings\n",
    "themes.theme_solarized_light2(fontsize=10)\n",
    "plt.rcParams[\"figure.figsize\"] = (16,8)\n",
    "plt.rcParams['font.sans-serif'] = ['news gothic std']\n",
    "sns.set_palette(themes.palettes.FiveThirtyEight.colors)\n",
    "pd.options.display.float_format = '{:.7f}'.format"
   ]
  },
  {
   "cell_type": "code",
   "execution_count": 253,
   "metadata": {},
   "outputs": [],
   "source": [
    "from tensorflow.keras.preprocessing.image import ImageDataGenerator \n",
    "from tensorflow.keras.preprocessing import image\n",
    "from tensorflow.keras.models import Sequential \n",
    "from tensorflow.keras.layers import Conv2D, MaxPooling2D \n",
    "from tensorflow.keras.layers import Activation, Dropout, Flatten, Dense \n",
    "from tensorflow.keras import backend as K \n",
    "from tensorflow.keras import Model\n",
    "  \n",
    "img_width, img_height = 256, 256"
   ]
  },
  {
   "cell_type": "code",
   "execution_count": 195,
   "metadata": {},
   "outputs": [],
   "source": [
    "train_image_generator = ImageDataGenerator(rescale=1. / 255) # Generator for our training data\n",
    "validation_image_generator = ImageDataGenerator(rescale=1. / 255) # Generator for our validation data"
   ]
  },
  {
   "cell_type": "code",
   "execution_count": 196,
   "metadata": {},
   "outputs": [],
   "source": [
    "test_image_generator = ImageDataGenerator(rescale=1. / 255) # Generator for our validation data"
   ]
  },
  {
   "cell_type": "code",
   "execution_count": 197,
   "metadata": {
    "collapsed": true
   },
   "outputs": [
    {
     "name": "stdout",
     "output_type": "stream",
     "text": [
      "Found 1520 images belonging to 3 classes.\n"
     ]
    }
   ],
   "source": [
    "train_data_gen = train_image_generator.flow_from_directory(batch_size=4,\n",
    "                                                           directory='images/train',\n",
    "                                                           shuffle=True,\n",
    "                                                           target_size=(img_height, img_width),\n",
    "                                                           class_mode='categorical')"
   ]
  },
  {
   "cell_type": "code",
   "execution_count": 198,
   "metadata": {
    "collapsed": true
   },
   "outputs": [
    {
     "name": "stdout",
     "output_type": "stream",
     "text": [
      "Found 190 images belonging to 3 classes.\n"
     ]
    }
   ],
   "source": [
    "validation_data_gen = validation_image_generator.flow_from_directory(batch_size=4,\n",
    "                                                           directory='images/val',\n",
    "                                                           shuffle=True,\n",
    "                                                           target_size=(img_height, img_width),\n",
    "                                                           class_mode='categorical')"
   ]
  },
  {
   "cell_type": "markdown",
   "metadata": {},
   "source": [
    "## Network #1"
   ]
  },
  {
   "cell_type": "code",
   "execution_count": 213,
   "metadata": {},
   "outputs": [],
   "source": [
    "model = Sequential([\n",
    "    Conv2D(16, 3, padding='same', activation='relu', input_shape=(img_height, img_width ,3)),\n",
    "    MaxPooling2D(),\n",
    "    Conv2D(32, 3, padding='same', activation='relu'),\n",
    "    MaxPooling2D(),\n",
    "    Conv2D(64, 3, padding='same', activation='relu'),\n",
    "    MaxPooling2D(),\n",
    "    Flatten(),\n",
    "    Dense(512, activation='relu'),\n",
    "    Dense(3)\n",
    "])"
   ]
  },
  {
   "cell_type": "code",
   "execution_count": 214,
   "metadata": {},
   "outputs": [],
   "source": [
    "model.compile(optimizer='adam',\n",
    "              loss=tf.keras.losses.CategoricalCrossentropy(from_logits=True),\n",
    "              metrics=['accuracy'])"
   ]
  },
  {
   "cell_type": "code",
   "execution_count": 215,
   "metadata": {
    "collapsed": true
   },
   "outputs": [
    {
     "name": "stdout",
     "output_type": "stream",
     "text": [
      "Model: \"sequential_3\"\n",
      "_________________________________________________________________\n",
      "Layer (type)                 Output Shape              Param #   \n",
      "=================================================================\n",
      "conv2d_9 (Conv2D)            (None, 256, 256, 16)      448       \n",
      "_________________________________________________________________\n",
      "max_pooling2d_9 (MaxPooling2 (None, 128, 128, 16)      0         \n",
      "_________________________________________________________________\n",
      "conv2d_10 (Conv2D)           (None, 128, 128, 32)      4640      \n",
      "_________________________________________________________________\n",
      "max_pooling2d_10 (MaxPooling (None, 64, 64, 32)        0         \n",
      "_________________________________________________________________\n",
      "conv2d_11 (Conv2D)           (None, 64, 64, 64)        18496     \n",
      "_________________________________________________________________\n",
      "max_pooling2d_11 (MaxPooling (None, 32, 32, 64)        0         \n",
      "_________________________________________________________________\n",
      "flatten_3 (Flatten)          (None, 65536)             0         \n",
      "_________________________________________________________________\n",
      "dense_6 (Dense)              (None, 512)               33554944  \n",
      "_________________________________________________________________\n",
      "dense_7 (Dense)              (None, 3)                 1539      \n",
      "=================================================================\n",
      "Total params: 33,580,067\n",
      "Trainable params: 33,580,067\n",
      "Non-trainable params: 0\n",
      "_________________________________________________________________\n"
     ]
    }
   ],
   "source": [
    "model.summary()"
   ]
  },
  {
   "cell_type": "code",
   "execution_count": 216,
   "metadata": {
    "collapsed": true
   },
   "outputs": [
    {
     "name": "stdout",
     "output_type": "stream",
     "text": [
      "Train for 380 steps, validate for 47 steps\n",
      "Epoch 1/15\n",
      "380/380 [==============================] - 144s 380ms/step - loss: 1.1215 - accuracy: 0.5053 - val_loss: 0.7440 - val_accuracy: 0.6968\n",
      "Epoch 2/15\n",
      "380/380 [==============================] - 145s 381ms/step - loss: 0.7435 - accuracy: 0.6849 - val_loss: 0.8318 - val_accuracy: 0.6011\n",
      "Epoch 3/15\n",
      "380/380 [==============================] - 157s 414ms/step - loss: 0.4829 - accuracy: 0.8092 - val_loss: 0.8756 - val_accuracy: 0.7021\n",
      "Epoch 4/15\n",
      "380/380 [==============================] - 151s 397ms/step - loss: 0.2835 - accuracy: 0.9125 - val_loss: 0.8688 - val_accuracy: 0.6915\n",
      "Epoch 5/15\n",
      "380/380 [==============================] - 5305s 14s/step - loss: 0.1021 - accuracy: 0.9671 - val_loss: 1.6534 - val_accuracy: 0.7394\n",
      "Epoch 6/15\n",
      "380/380 [==============================] - 139s 367ms/step - loss: 0.0831 - accuracy: 0.9783 - val_loss: 1.7739 - val_accuracy: 0.6649\n",
      "Epoch 7/15\n",
      "380/380 [==============================] - 138s 364ms/step - loss: 0.0597 - accuracy: 0.9783 - val_loss: 2.1631 - val_accuracy: 0.6649\n",
      "Epoch 8/15\n",
      "380/380 [==============================] - 141s 371ms/step - loss: 0.0539 - accuracy: 0.9842 - val_loss: 2.2474 - val_accuracy: 0.7128\n",
      "Epoch 9/15\n",
      "380/380 [==============================] - 213s 560ms/step - loss: 0.1041 - accuracy: 0.9743 - val_loss: 1.2512 - val_accuracy: 0.6915\n",
      "Epoch 10/15\n",
      "380/380 [==============================] - 143s 375ms/step - loss: 0.0270 - accuracy: 0.9914 - val_loss: 1.7870 - val_accuracy: 0.7234\n",
      "Epoch 11/15\n",
      "380/380 [==============================] - 141s 371ms/step - loss: 0.0018 - accuracy: 1.0000 - val_loss: 2.1507 - val_accuracy: 0.7394\n",
      "Epoch 12/15\n",
      "380/380 [==============================] - 141s 371ms/step - loss: 2.6321e-04 - accuracy: 1.0000 - val_loss: 2.3327 - val_accuracy: 0.7181\n",
      "Epoch 13/15\n",
      "380/380 [==============================] - 141s 371ms/step - loss: 9.9891e-05 - accuracy: 1.0000 - val_loss: 2.4317 - val_accuracy: 0.7128\n",
      "Epoch 14/15\n",
      "380/380 [==============================] - 141s 370ms/step - loss: 6.5103e-05 - accuracy: 1.0000 - val_loss: 2.5155 - val_accuracy: 0.7128\n",
      "Epoch 15/15\n",
      "380/380 [==============================] - 141s 371ms/step - loss: 3.8930e-05 - accuracy: 1.0000 - val_loss: 2.6547 - val_accuracy: 0.7234\n"
     ]
    }
   ],
   "source": [
    "history = model.fit(\n",
    "    train_data_gen,\n",
    "    steps_per_epoch=380,\n",
    "    epochs=15,\n",
    "    validation_data=validation_data_gen,\n",
    "    validation_steps=47\n",
    ")"
   ]
  },
  {
   "cell_type": "code",
   "execution_count": 219,
   "metadata": {
    "collapsed": true
   },
   "outputs": [
    {
     "name": "stdout",
     "output_type": "stream",
     "text": [
      "INFO:tensorflow:Assets written to: model1/assets\n"
     ]
    }
   ],
   "source": [
    "model.save('model1')"
   ]
  },
  {
   "cell_type": "code",
   "execution_count": 217,
   "metadata": {
    "collapsed": true
   },
   "outputs": [
    {
     "name": "stdout",
     "output_type": "stream",
     "text": [
      "Found 190 images belonging to 3 classes.\n"
     ]
    }
   ],
   "source": [
    "test = test_image_generator.flow_from_directory(batch_size=1,\n",
    "                                                    directory='images/dumb',\n",
    "                                                    target_size=(img_height, img_width),\n",
    "                                                    class_mode='categorical',\n",
    "                                                    shuffle=False\n",
    "                                                    )"
   ]
  },
  {
   "cell_type": "code",
   "execution_count": 228,
   "metadata": {},
   "outputs": [
    {
     "data": {
      "text/plain": [
       "<matplotlib.axes._subplots.AxesSubplot at 0x7f9a2864fb50>"
      ]
     },
     "execution_count": 228,
     "metadata": {},
     "output_type": "execute_result"
    },
    {
     "data": {
      "image/png": "[encoded data removed]",
      "text/plain": [
       "<Figure size 1152x576 with 2 Axes>"
      ]
     },
     "metadata": {
      "image/png": {
       "height": 465,
       "width": 550
      }
     },
     "output_type": "display_data"
    }
   ],
   "source": [
    "pred = model.predict_generator(test, len(test.filenames))\n",
    "pred = np.argmax(pred,axis=1)\n",
    "sns.heatmap(metrics.confusion_matrix(pred,test.classes), annot=True,  cmap='Blues', square=True, \n",
    "            xticklabels=test.class_indices.keys(), yticklabels=test.class_indices.keys())"
   ]
  },
  {
   "cell_type": "markdown",
   "metadata": {},
   "source": [
    "This model began overfitting during the third epoch, when validation loss started increasing as the training loss decreased until the model performed perfectly on the training data but made larger and larger errors in the validation examples."
   ]
  },
  {
   "cell_type": "markdown",
   "metadata": {},
   "source": [
    "## Network #2"
   ]
  },
  {
   "cell_type": "markdown",
   "metadata": {},
   "source": [
    "The first network learned on the raw training images. To reduce the overfitting that occurred on the first run of this model I will add an augmentation step to the training ImageDataGenerator object that will rotate, shift, and zoom examples as they are fed to the network."
   ]
  },
  {
   "cell_type": "code",
   "execution_count": 12,
   "metadata": {},
   "outputs": [],
   "source": [
    "image_gen_train2 = ImageDataGenerator(\n",
    "                    rescale=1. / 255,\n",
    "                    rotation_range=45,\n",
    "                    width_shift_range=.15,\n",
    "                    height_shift_range=.15,\n",
    "                    horizontal_flip=True,\n",
    "                    zoom_range=0.5\n",
    "                    )"
   ]
  },
  {
   "cell_type": "code",
   "execution_count": 13,
   "metadata": {
    "collapsed": true
   },
   "outputs": [
    {
     "name": "stdout",
     "output_type": "stream",
     "text": [
      "Found 1520 images belonging to 3 classes.\n"
     ]
    }
   ],
   "source": [
    "train_data_gen2 = image_gen_train2.flow_from_directory(batch_size=4,\n",
    "                                                     directory='images/train',\n",
    "                                                     shuffle=True,\n",
    "                                                     target_size=(img_height, img_width),\n",
    "                                                     class_mode='categorical')"
   ]
  },
  {
   "cell_type": "code",
   "execution_count": 14,
   "metadata": {
    "collapsed": true
   },
   "outputs": [
    {
     "name": "stdout",
     "output_type": "stream",
     "text": [
      "Found 190 images belonging to 3 classes.\n"
     ]
    }
   ],
   "source": [
    "validation_data_gen2 = validation_image_generator.flow_from_directory(batch_size=4,\n",
    "                                                           directory='images/val',\n",
    "                                                           shuffle=True,\n",
    "                                                           target_size=(img_height, img_width),\n",
    "                                                           class_mode='categorical')"
   ]
  },
  {
   "cell_type": "code",
   "execution_count": 38,
   "metadata": {
    "collapsed": true
   },
   "outputs": [
    {
     "name": "stdout",
     "output_type": "stream",
     "text": [
      "Found 190 images belonging to 3 classes.\n"
     ]
    }
   ],
   "source": [
    "test_data_gen2 = test_image_generator.flow_from_directory(batch_size=4,\n",
    "                                                           directory='images/test',\n",
    "                                                           target_size=(img_height, img_width),\n",
    "                                                           class_mode='categorical')"
   ]
  },
  {
   "cell_type": "code",
   "execution_count": 16,
   "metadata": {},
   "outputs": [],
   "source": [
    "model2 = Sequential([\n",
    "    Conv2D(16, 3, padding='same', activation='relu', input_shape=(img_height, img_width, 3)),\n",
    "    MaxPooling2D(),\n",
    "    Conv2D(32, 3, padding='same', activation='relu'),\n",
    "    MaxPooling2D(),\n",
    "    Conv2D(64, 3, padding='same', activation='relu'),\n",
    "    MaxPooling2D(),\n",
    "    Flatten(),\n",
    "    Dense(512, activation='relu'),\n",
    "    Dense(3)\n",
    "])"
   ]
  },
  {
   "cell_type": "code",
   "execution_count": 17,
   "metadata": {},
   "outputs": [],
   "source": [
    "model2.compile(optimizer='adam',\n",
    "              loss=tf.keras.losses.CategoricalCrossentropy(from_logits=True),\n",
    "              metrics=['accuracy'])"
   ]
  },
  {
   "cell_type": "code",
   "execution_count": 18,
   "metadata": {
    "scrolled": true
   },
   "outputs": [
    {
     "name": "stdout",
     "output_type": "stream",
     "text": [
      "Train for 380 steps, validate for 47 steps\n",
      "Epoch 1/30\n",
      "380/380 [==============================] - 160s 422ms/step - loss: 1.0459 - accuracy: 0.4526 - val_loss: 0.9468 - val_accuracy: 0.5213\n",
      "Epoch 2/30\n",
      "380/380 [==============================] - 161s 424ms/step - loss: 0.8393 - accuracy: 0.5743 - val_loss: 0.7816 - val_accuracy: 0.5957\n",
      "Epoch 3/30\n",
      "380/380 [==============================] - 171s 451ms/step - loss: 0.7716 - accuracy: 0.6000 - val_loss: 0.6937 - val_accuracy: 0.6862\n",
      "Epoch 4/30\n",
      "380/380 [==============================] - 156s 411ms/step - loss: 0.7251 - accuracy: 0.6243 - val_loss: 0.6661 - val_accuracy: 0.6968\n",
      "Epoch 5/30\n",
      "380/380 [==============================] - 155s 407ms/step - loss: 0.7100 - accuracy: 0.6355 - val_loss: 0.7552 - val_accuracy: 0.6543\n",
      "Epoch 6/30\n",
      "380/380 [==============================] - 155s 407ms/step - loss: 0.6800 - accuracy: 0.6737 - val_loss: 0.6522 - val_accuracy: 0.7128\n",
      "Epoch 7/30\n",
      "380/380 [==============================] - 154s 405ms/step - loss: 0.6595 - accuracy: 0.7007 - val_loss: 0.5875 - val_accuracy: 0.7606\n",
      "Epoch 8/30\n",
      "380/380 [==============================] - 154s 406ms/step - loss: 0.6575 - accuracy: 0.6947 - val_loss: 0.6315 - val_accuracy: 0.6968\n",
      "Epoch 9/30\n",
      "380/380 [==============================] - 154s 407ms/step - loss: 0.6391 - accuracy: 0.7178 - val_loss: 0.5254 - val_accuracy: 0.7713\n",
      "Epoch 10/30\n",
      "380/380 [==============================] - 154s 406ms/step - loss: 0.6134 - accuracy: 0.7368 - val_loss: 0.5582 - val_accuracy: 0.7340\n",
      "Epoch 11/30\n",
      "380/380 [==============================] - 156s 409ms/step - loss: 0.6274 - accuracy: 0.7322 - val_loss: 0.6266 - val_accuracy: 0.6915\n",
      "Epoch 12/30\n",
      "380/380 [==============================] - 153s 404ms/step - loss: 0.5911 - accuracy: 0.7375 - val_loss: 0.5005 - val_accuracy: 0.7713\n",
      "Epoch 13/30\n",
      "380/380 [==============================] - 154s 405ms/step - loss: 0.5686 - accuracy: 0.7750 - val_loss: 0.4787 - val_accuracy: 0.7713\n",
      "Epoch 14/30\n",
      "380/380 [==============================] - 155s 408ms/step - loss: 0.5586 - accuracy: 0.7671 - val_loss: 0.5185 - val_accuracy: 0.7872\n",
      "Epoch 15/30\n",
      "380/380 [==============================] - 154s 406ms/step - loss: 0.5418 - accuracy: 0.7789 - val_loss: 0.4907 - val_accuracy: 0.7872\n",
      "Epoch 16/30\n",
      "380/380 [==============================] - 155s 407ms/step - loss: 0.5589 - accuracy: 0.7678 - val_loss: 0.4690 - val_accuracy: 0.8138\n",
      "Epoch 17/30\n",
      "380/380 [==============================] - 155s 407ms/step - loss: 0.5130 - accuracy: 0.7842 - val_loss: 0.4852 - val_accuracy: 0.7713\n",
      "Epoch 18/30\n",
      "380/380 [==============================] - 155s 407ms/step - loss: 0.5208 - accuracy: 0.7796 - val_loss: 0.4763 - val_accuracy: 0.8085\n",
      "Epoch 19/30\n",
      "380/380 [==============================] - 154s 404ms/step - loss: 0.5073 - accuracy: 0.7895 - val_loss: 0.4842 - val_accuracy: 0.8085\n",
      "Epoch 20/30\n",
      "380/380 [==============================] - 152s 400ms/step - loss: 0.4922 - accuracy: 0.8053 - val_loss: 0.5271 - val_accuracy: 0.7606\n",
      "Epoch 21/30\n",
      "380/380 [==============================] - 152s 399ms/step - loss: 0.4926 - accuracy: 0.7980 - val_loss: 0.4157 - val_accuracy: 0.8404\n",
      "Epoch 22/30\n",
      "380/380 [==============================] - 152s 400ms/step - loss: 0.4886 - accuracy: 0.7987 - val_loss: 0.4476 - val_accuracy: 0.8191\n",
      "Epoch 23/30\n",
      "380/380 [==============================] - 152s 400ms/step - loss: 0.5004 - accuracy: 0.8000 - val_loss: 0.4737 - val_accuracy: 0.7819\n",
      "Epoch 24/30\n",
      "380/380 [==============================] - 152s 400ms/step - loss: 0.4718 - accuracy: 0.8092 - val_loss: 0.5191 - val_accuracy: 0.8191\n",
      "Epoch 25/30\n",
      "380/380 [==============================] - 152s 400ms/step - loss: 0.4850 - accuracy: 0.8007 - val_loss: 0.4750 - val_accuracy: 0.8138\n",
      "Epoch 26/30\n",
      "380/380 [==============================] - 154s 406ms/step - loss: 0.4744 - accuracy: 0.8105 - val_loss: 0.3745 - val_accuracy: 0.8511\n",
      "Epoch 27/30\n",
      "380/380 [==============================] - 154s 404ms/step - loss: 0.4465 - accuracy: 0.8066 - val_loss: 0.4043 - val_accuracy: 0.8032\n",
      "Epoch 28/30\n",
      "380/380 [==============================] - 154s 406ms/step - loss: 0.4386 - accuracy: 0.8138 - val_loss: 0.3693 - val_accuracy: 0.8404\n",
      "Epoch 29/30\n",
      "380/380 [==============================] - 154s 405ms/step - loss: 0.4251 - accuracy: 0.8270 - val_loss: 0.5015 - val_accuracy: 0.8404\n",
      "Epoch 30/30\n",
      "380/380 [==============================] - 154s 405ms/step - loss: 0.4350 - accuracy: 0.8178 - val_loss: 0.3948 - val_accuracy: 0.8138\n"
     ]
    }
   ],
   "source": [
    "history = model2.fit(\n",
    "    train_data_gen2,\n",
    "    steps_per_epoch=380,\n",
    "    epochs=30,\n",
    "    validation_data=validation_data_gen2,\n",
    "    validation_steps=47\n",
    ")"
   ]
  },
  {
   "cell_type": "markdown",
   "metadata": {},
   "source": [
    "After 30 epochs we haven't seen any overfitting and the decreases in loss/increases in accuracy seem to be slowing. To see if we can push performance further we will train for another 20 epochs."
   ]
  },
  {
   "cell_type": "code",
   "execution_count": 19,
   "metadata": {},
   "outputs": [],
   "source": [
    "model2.optimizer.lr = .0001"
   ]
  },
  {
   "cell_type": "code",
   "execution_count": 20,
   "metadata": {},
   "outputs": [
    {
     "name": "stdout",
     "output_type": "stream",
     "text": [
      "Train for 380 steps, validate for 47 steps\n",
      "Epoch 1/15\n",
      "380/380 [==============================] - 153s 404ms/step - loss: 0.3866 - accuracy: 0.8388 - val_loss: 0.3617 - val_accuracy: 0.8511\n",
      "Epoch 2/15\n",
      "380/380 [==============================] - 154s 405ms/step - loss: 0.3587 - accuracy: 0.8632 - val_loss: 0.3307 - val_accuracy: 0.8723\n",
      "Epoch 3/15\n",
      "380/380 [==============================] - 153s 403ms/step - loss: 0.3286 - accuracy: 0.8664 - val_loss: 0.3225 - val_accuracy: 0.8777\n",
      "Epoch 4/15\n",
      "380/380 [==============================] - 151s 396ms/step - loss: 0.3448 - accuracy: 0.8651 - val_loss: 0.3167 - val_accuracy: 0.8777\n",
      "Epoch 5/15\n",
      "380/380 [==============================] - 150s 395ms/step - loss: 0.3393 - accuracy: 0.8664 - val_loss: 0.3099 - val_accuracy: 0.8830\n",
      "Epoch 6/15\n",
      "380/380 [==============================] - 151s 396ms/step - loss: 0.3393 - accuracy: 0.8717 - val_loss: 0.3103 - val_accuracy: 0.8830\n",
      "Epoch 7/15\n",
      "380/380 [==============================] - 150s 395ms/step - loss: 0.3580 - accuracy: 0.8632 - val_loss: 0.3208 - val_accuracy: 0.8670\n",
      "Epoch 8/15\n",
      "380/380 [==============================] - 150s 396ms/step - loss: 0.3408 - accuracy: 0.8664 - val_loss: 0.2995 - val_accuracy: 0.8883\n",
      "Epoch 9/15\n",
      "380/380 [==============================] - 150s 394ms/step - loss: 0.3479 - accuracy: 0.8612 - val_loss: 0.2932 - val_accuracy: 0.8777\n",
      "Epoch 10/15\n",
      "380/380 [==============================] - 152s 401ms/step - loss: 0.3395 - accuracy: 0.8691 - val_loss: 0.2809 - val_accuracy: 0.8883\n",
      "Epoch 11/15\n",
      "380/380 [==============================] - 153s 402ms/step - loss: 0.3323 - accuracy: 0.8612 - val_loss: 0.2903 - val_accuracy: 0.8883\n",
      "Epoch 12/15\n",
      "380/380 [==============================] - 154s 406ms/step - loss: 0.3094 - accuracy: 0.8783 - val_loss: 0.2900 - val_accuracy: 0.8883\n",
      "Epoch 13/15\n",
      "380/380 [==============================] - 154s 405ms/step - loss: 0.3144 - accuracy: 0.8789 - val_loss: 0.2860 - val_accuracy: 0.8936\n",
      "Epoch 14/15\n",
      "380/380 [==============================] - 155s 408ms/step - loss: 0.3065 - accuracy: 0.8803 - val_loss: 0.2691 - val_accuracy: 0.8989\n",
      "Epoch 15/15\n",
      "380/380 [==============================] - 154s 405ms/step - loss: 0.3304 - accuracy: 0.8625 - val_loss: 0.2847 - val_accuracy: 0.8936\n"
     ]
    }
   ],
   "source": [
    "history2 = model2.fit(\n",
    "    train_data_gen2,\n",
    "    steps_per_epoch=380,\n",
    "    epochs=15,\n",
    "    validation_data=validation_data_gen2,\n",
    "    validation_steps=47\n",
    ")"
   ]
  },
  {
   "cell_type": "code",
   "execution_count": 22,
   "metadata": {
    "collapsed": true
   },
   "outputs": [
    {
     "name": "stdout",
     "output_type": "stream",
     "text": [
      "WARNING:tensorflow:From /opt/anaconda3/lib/python3.7/site-packages/tensorflow_core/python/ops/resource_variable_ops.py:1781: calling BaseResourceVariable.__init__ (from tensorflow.python.ops.resource_variable_ops) with constraint is deprecated and will be removed in a future version.\n",
      "Instructions for updating:\n",
      "If using Keras pass *_constraint arguments to layers.\n",
      "INFO:tensorflow:Assets written to: model2/assets\n"
     ]
    }
   ],
   "source": [
    "model2.save('model2')"
   ]
  },
  {
   "cell_type": "markdown",
   "metadata": {},
   "source": [
    "It looks like image augmentation had a positive effect on the model fitting process. Performance on the test data should be improved."
   ]
  },
  {
   "cell_type": "code",
   "execution_count": 203,
   "metadata": {},
   "outputs": [],
   "source": [
    "test_image_generator_2 = ImageDataGenerator(rescale=1. / 255)"
   ]
  },
  {
   "cell_type": "code",
   "execution_count": 204,
   "metadata": {
    "collapsed": true
   },
   "outputs": [
    {
     "name": "stdout",
     "output_type": "stream",
     "text": [
      "Found 190 images belonging to 3 classes.\n"
     ]
    }
   ],
   "source": [
    "test2a = test_image_generator_2.flow_from_directory(batch_size=1,\n",
    "                                                    directory='images/dumb',\n",
    "                                                    target_size=(img_height, img_width),\n",
    "                                                    class_mode='categorical',\n",
    "                                                    shuffle=False\n",
    "                                                    )"
   ]
  },
  {
   "cell_type": "code",
   "execution_count": 227,
   "metadata": {
    "scrolled": false
   },
   "outputs": [
    {
     "data": {
      "text/plain": [
       "<matplotlib.axes._subplots.AxesSubplot at 0x7f9a28c81a50>"
      ]
     },
     "execution_count": 227,
     "metadata": {},
     "output_type": "execute_result"
    },
    {
     "data": {
      "image/png": "[encoded data removed]",
      "text/plain": [
       "<Figure size 1152x576 with 2 Axes>"
      ]
     },
     "metadata": {
      "image/png": {
       "height": 465,
       "width": 550
      }
     },
     "output_type": "display_data"
    }
   ],
   "source": [
    "pred = model2.predict_generator(test2a, len(test2a.filenames))\n",
    "pred = np.argmax(pred,axis=1)\n",
    "sns.heatmap(metrics.confusion_matrix(pred,test2a.classes), annot=True, square=True,\n",
    "             cmap='Blues',xticklabels=test2a.class_indices.keys(), yticklabels=test2a.class_indices.keys())"
   ]
  },
  {
   "cell_type": "code",
   "execution_count": 243,
   "metadata": {},
   "outputs": [
    {
     "name": "stdout",
     "output_type": "stream",
     "text": [
      "conv2d_3 (3, 3, 3, 16)\n",
      "conv2d_4 (3, 3, 16, 32)\n",
      "conv2d_5 (3, 3, 32, 64)\n"
     ]
    }
   ],
   "source": [
    "for layer in model2.layers:\n",
    "    # check for convolutional layer\n",
    "    if 'conv' not in layer.name:\n",
    "        continue\n",
    "    # get filter weights\n",
    "    filters, biases = layer.get_weights()\n",
    "    print(layer.name, filters.shape)"
   ]
  },
  {
   "cell_type": "code",
   "execution_count": 246,
   "metadata": {},
   "outputs": [],
   "source": [
    "filters, biases = model2.layers[0].get_weights()"
   ]
  },
  {
   "cell_type": "code",
   "execution_count": 247,
   "metadata": {},
   "outputs": [],
   "source": [
    "f_min, f_max = filters.min(), filters.max()\n",
    "filters = (filters - f_min) / (f_max - f_min)"
   ]
  },
  {
   "cell_type": "code",
   "execution_count": 250,
   "metadata": {},
   "outputs": [
    {
     "data": {
      "image/png": "[encoded data removed]",
      "text/plain": [
       "<Figure size 1152x576 with 18 Axes>"
      ]
     },
     "metadata": {
      "image/png": {
       "height": 452,
       "width": 710
      }
     },
     "output_type": "display_data"
    }
   ],
   "source": [
    "n_filters, ix = 6, 1\n",
    "for i in range(n_filters):\n",
    "    # get the filter\n",
    "    f = filters[:, :, :, i]\n",
    "    # plot each channel separately\n",
    "    for j in range(3):\n",
    "        # specify subplot and turn of axis\n",
    "        ax = plt.subplot(n_filters, 3, ix)\n",
    "        ax.set_xticks([])\n",
    "        ax.set_yticks([])\n",
    "        # plot filter channel in grayscale\n",
    "        plt.imshow(f[:, :, j], cmap='gray')\n",
    "        ix += 1\n",
    "# show the figure\n",
    "plt.show()"
   ]
  },
  {
   "cell_type": "code",
   "execution_count": 251,
   "metadata": {},
   "outputs": [
    {
     "name": "stdout",
     "output_type": "stream",
     "text": [
      "0 conv2d_3 (None, 256, 256, 16)\n",
      "2 conv2d_4 (None, 128, 128, 32)\n",
      "4 conv2d_5 (None, 64, 64, 64)\n"
     ]
    }
   ],
   "source": [
    "for i in range(len(model2.layers)):\n",
    "\tlayer = model2.layers[i]\n",
    "\t# check for convolutional layer\n",
    "\tif 'conv' not in layer.name:\n",
    "\t\tcontinue\n",
    "\t# summarize output shape\n",
    "\tprint(i, layer.name, layer.output.shape)"
   ]
  },
  {
   "cell_type": "code",
   "execution_count": 268,
   "metadata": {},
   "outputs": [],
   "source": [
    "model2_l1 = Model(inputs=model2.inputs, outputs=model2.layers[4].output)"
   ]
  },
  {
   "cell_type": "code",
   "execution_count": 282,
   "metadata": {},
   "outputs": [],
   "source": [
    "img = image.load_img('images/untitled.png')"
   ]
  },
  {
   "cell_type": "code",
   "execution_count": 283,
   "metadata": {},
   "outputs": [],
   "source": [
    "# convert the image to an array\n",
    "img = image.img_to_array(img)\n",
    "# expand dimensions so that it represents a single 'sample'\n",
    "img = K.expand_dims(img, axis=0)"
   ]
  },
  {
   "cell_type": "code",
   "execution_count": 284,
   "metadata": {},
   "outputs": [],
   "source": [
    "img = img/ 255.0"
   ]
  },
  {
   "cell_type": "code",
   "execution_count": 285,
   "metadata": {},
   "outputs": [],
   "source": [
    "feature_maps = model2_l1.predict(img)"
   ]
  },
  {
   "cell_type": "code",
   "execution_count": 286,
   "metadata": {},
   "outputs": [
    {
     "data": {
      "image/png": "[encoded data removed]",
      "text/plain": [
       "<Figure size 1152x576 with 64 Axes>"
      ]
     },
     "metadata": {
      "image/png": {
       "height": 452,
       "width": 861
      }
     },
     "output_type": "display_data"
    }
   ],
   "source": [
    "square = 8\n",
    "ix = 1\n",
    "for _ in range(square):\n",
    "\tfor _ in range(square):\n",
    "\t\t# specify subplot and turn of axis\n",
    "\t\tax = plt.subplot(square, square, ix)\n",
    "\t\tax.set_xticks([])\n",
    "\t\tax.set_yticks([])\n",
    "\t\t# plot filter channel in grayscale\n",
    "\t\tplt.imshow(feature_maps[0, :, :, ix-1], cmap='gray')\n",
    "\t\tix += 1\n",
    "# show the figure\n",
    "plt.show()"
   ]
  },
  {
   "cell_type": "markdown",
   "metadata": {},
   "source": [
    "The only significant misclassification happening here are for images labeled as \"paved\" which in fact contain identifiable buildings around the edges. A number of these have been classified as \"built,\" which is actually a reasonable category to put them in. Depending on the practical application of the artificial categories I created for this experiment, I might want to retrain the model but relabel those types of examples (if I now decided I wanted such images classified as \"built\"). Alternatively, that level of fuzziness might be inherent in the classses themselves. In that case, maybe the 1 in 6 error is acceptable. Besides this seemingly understandable confusion, the classes are being predicted extremely well."
   ]
  },
  {
   "cell_type": "markdown",
   "metadata": {},
   "source": [
    "## Network #3"
   ]
  },
  {
   "cell_type": "markdown",
   "metadata": {},
   "source": [
    "For the third network we will use the same augmentation from network number two. We will also introduce a learning rate scheduler."
   ]
  },
  {
   "cell_type": "code",
   "execution_count": 238,
   "metadata": {},
   "outputs": [],
   "source": [
    "model3 = Sequential([\n",
    "    Conv2D(16, 3, padding='same', activation='relu', input_shape=(img_height, img_width ,3)),\n",
    "    MaxPooling2D(),\n",
    "    Conv2D(32, 3, padding='same', activation='relu'),\n",
    "    MaxPooling2D(),\n",
    "    Conv2D(64, 3, padding='same', activation='relu'),\n",
    "    MaxPooling2D(),\n",
    "    Flatten(),\n",
    "    Dense(512, activation='relu'),\n",
    "    Dense(3)\n",
    "])"
   ]
  },
  {
   "cell_type": "code",
   "execution_count": 239,
   "metadata": {},
   "outputs": [],
   "source": [
    "model3.compile(optimizer='adam',\n",
    "              loss=tf.keras.losses.CategoricalCrossentropy(from_logits=True),\n",
    "              metrics=['accuracy'])"
   ]
  },
  {
   "cell_type": "code",
   "execution_count": 240,
   "metadata": {
    "collapsed": true
   },
   "outputs": [
    {
     "name": "stdout",
     "output_type": "stream",
     "text": [
      "Train for 380 steps, validate for 47 steps\n",
      "Epoch 1/50\n",
      "380/380 [==============================] - 183s 481ms/step - loss: 1.0509 - accuracy: 0.4888 - val_loss: 0.7872 - val_accuracy: 0.5851\n",
      "Epoch 2/50\n",
      "380/380 [==============================] - 182s 478ms/step - loss: 0.8048 - accuracy: 0.6092 - val_loss: 0.6947 - val_accuracy: 0.6649\n",
      "Epoch 3/50\n",
      "380/380 [==============================] - 178s 469ms/step - loss: 0.7524 - accuracy: 0.6224 - val_loss: 0.6170 - val_accuracy: 0.6862\n",
      "Epoch 4/50\n",
      "380/380 [==============================] - 171s 451ms/step - loss: 0.7164 - accuracy: 0.6414 - val_loss: 0.6149 - val_accuracy: 0.6862\n",
      "Epoch 5/50\n",
      "380/380 [==============================] - 173s 456ms/step - loss: 0.7060 - accuracy: 0.6461 - val_loss: 0.6464 - val_accuracy: 0.6543\n",
      "Epoch 6/50\n",
      "380/380 [==============================] - 181s 476ms/step - loss: 0.7058 - accuracy: 0.6500 - val_loss: 0.6197 - val_accuracy: 0.7021\n",
      "Epoch 7/50\n",
      "380/380 [==============================] - 186s 489ms/step - loss: 0.6777 - accuracy: 0.6632 - val_loss: 0.5590 - val_accuracy: 0.7553\n",
      "Epoch 8/50\n",
      "380/380 [==============================] - 192s 504ms/step - loss: 0.6865 - accuracy: 0.6638 - val_loss: 0.6633 - val_accuracy: 0.6755\n",
      "Epoch 9/50\n",
      "380/380 [==============================] - 187s 493ms/step - loss: 0.6725 - accuracy: 0.6678 - val_loss: 0.5988 - val_accuracy: 0.7074\n",
      "Epoch 10/50\n",
      "380/380 [==============================] - 184s 485ms/step - loss: 0.6526 - accuracy: 0.6882 - val_loss: 0.5574 - val_accuracy: 0.7340\n",
      "Epoch 11/50\n",
      "380/380 [==============================] - 165s 434ms/step - loss: 0.6556 - accuracy: 0.6993 - val_loss: 0.5129 - val_accuracy: 0.7872\n",
      "Epoch 12/50\n",
      "380/380 [==============================] - 225s 592ms/step - loss: 0.6393 - accuracy: 0.7066 - val_loss: 0.5510 - val_accuracy: 0.7234\n",
      "Epoch 13/50\n",
      "380/380 [==============================] - 236s 620ms/step - loss: 0.6200 - accuracy: 0.7158 - val_loss: 0.6443 - val_accuracy: 0.7128\n",
      "Epoch 14/50\n",
      "380/380 [==============================] - 183s 481ms/step - loss: 0.6146 - accuracy: 0.7191 - val_loss: 0.5449 - val_accuracy: 0.7553\n",
      "Epoch 15/50\n",
      "380/380 [==============================] - 184s 484ms/step - loss: 0.5733 - accuracy: 0.7336 - val_loss: 0.6157 - val_accuracy: 0.7128\n",
      "Epoch 16/50\n",
      "380/380 [==============================] - 182s 478ms/step - loss: 0.7185 - accuracy: 0.6928 - val_loss: 0.5428 - val_accuracy: 0.7500\n",
      "Epoch 17/50\n",
      "380/380 [==============================] - 174s 457ms/step - loss: 0.5898 - accuracy: 0.7388 - val_loss: 0.4861 - val_accuracy: 0.7926\n",
      "Epoch 18/50\n",
      "380/380 [==============================] - 174s 457ms/step - loss: 0.5834 - accuracy: 0.7572 - val_loss: 0.4974 - val_accuracy: 0.8032\n",
      "Epoch 19/50\n",
      "380/380 [==============================] - 175s 459ms/step - loss: 0.5284 - accuracy: 0.7789 - val_loss: 0.4864 - val_accuracy: 0.7926\n",
      "Epoch 20/50\n",
      "380/380 [==============================] - 181s 478ms/step - loss: 0.5376 - accuracy: 0.7592 - val_loss: 0.4334 - val_accuracy: 0.8138\n",
      "Epoch 21/50\n",
      "380/380 [==============================] - 177s 465ms/step - loss: 0.5164 - accuracy: 0.7928 - val_loss: 0.4020 - val_accuracy: 0.8404\n",
      "Epoch 22/50\n",
      "380/380 [==============================] - 170s 447ms/step - loss: 0.4669 - accuracy: 0.8033 - val_loss: 0.3740 - val_accuracy: 0.8670\n",
      "Epoch 23/50\n",
      "380/380 [==============================] - 182s 479ms/step - loss: 0.4947 - accuracy: 0.7974 - val_loss: 0.3679 - val_accuracy: 0.8457\n",
      "Epoch 24/50\n",
      "380/380 [==============================] - 179s 472ms/step - loss: 0.4940 - accuracy: 0.7967 - val_loss: 0.3448 - val_accuracy: 0.8564\n",
      "Epoch 25/50\n",
      "380/380 [==============================] - 186s 489ms/step - loss: 0.4473 - accuracy: 0.8145 - val_loss: 0.3391 - val_accuracy: 0.8617\n",
      "Epoch 26/50\n",
      "380/380 [==============================] - 195s 514ms/step - loss: 0.4750 - accuracy: 0.8217 - val_loss: 0.4171 - val_accuracy: 0.8138\n",
      "Epoch 27/50\n",
      "380/380 [==============================] - 165s 434ms/step - loss: 0.4729 - accuracy: 0.8086 - val_loss: 0.4071 - val_accuracy: 0.8351\n",
      "Epoch 28/50\n",
      "380/380 [==============================] - 164s 431ms/step - loss: 0.4388 - accuracy: 0.8257 - val_loss: 0.3781 - val_accuracy: 0.8404\n",
      "Epoch 29/50\n",
      "380/380 [==============================] - 161s 425ms/step - loss: 0.4307 - accuracy: 0.8211 - val_loss: 0.3491 - val_accuracy: 0.8457\n",
      "Epoch 30/50\n",
      "380/380 [==============================] - 163s 428ms/step - loss: 0.4503 - accuracy: 0.8243 - val_loss: 0.3625 - val_accuracy: 0.8777\n",
      "Epoch 31/50\n",
      "380/380 [==============================] - 162s 426ms/step - loss: 0.4438 - accuracy: 0.8145 - val_loss: 0.3934 - val_accuracy: 0.8457\n",
      "Epoch 32/50\n",
      "380/380 [==============================] - 163s 428ms/step - loss: 0.4518 - accuracy: 0.8211 - val_loss: 0.3547 - val_accuracy: 0.8457\n",
      "Epoch 33/50\n",
      "380/380 [==============================] - 161s 424ms/step - loss: 0.4424 - accuracy: 0.8257 - val_loss: 0.3965 - val_accuracy: 0.8777\n",
      "Epoch 34/50\n",
      "380/380 [==============================] - 161s 424ms/step - loss: 0.4495 - accuracy: 0.8066 - val_loss: 0.3475 - val_accuracy: 0.8617\n",
      "Epoch 35/50\n",
      "380/380 [==============================] - 161s 423ms/step - loss: 0.4306 - accuracy: 0.8243 - val_loss: 0.3473 - val_accuracy: 0.8404\n",
      "Epoch 36/50\n",
      "380/380 [==============================] - 161s 424ms/step - loss: 0.4036 - accuracy: 0.8270 - val_loss: 0.3318 - val_accuracy: 0.8617\n",
      "Epoch 37/50\n",
      "380/380 [==============================] - 160s 420ms/step - loss: 0.3750 - accuracy: 0.8507 - val_loss: 0.3207 - val_accuracy: 0.8564\n",
      "Epoch 38/50\n",
      "380/380 [==============================] - 160s 420ms/step - loss: 0.3995 - accuracy: 0.8474 - val_loss: 0.3980 - val_accuracy: 0.8617\n",
      "Epoch 39/50\n",
      "380/380 [==============================] - 159s 418ms/step - loss: 0.3867 - accuracy: 0.8428 - val_loss: 0.3437 - val_accuracy: 0.8670\n",
      "Epoch 40/50\n",
      "380/380 [==============================] - 157s 413ms/step - loss: 0.3887 - accuracy: 0.8421 - val_loss: 0.3715 - val_accuracy: 0.8617\n",
      "Epoch 41/50\n",
      "380/380 [==============================] - 154s 405ms/step - loss: 0.3906 - accuracy: 0.8414 - val_loss: 0.3117 - val_accuracy: 0.8777\n",
      "Epoch 42/50\n",
      "380/380 [==============================] - 154s 406ms/step - loss: 0.3905 - accuracy: 0.8349 - val_loss: 0.3247 - val_accuracy: 0.8723\n",
      "Epoch 43/50\n",
      "380/380 [==============================] - 154s 406ms/step - loss: 0.3880 - accuracy: 0.8493 - val_loss: 0.3819 - val_accuracy: 0.8617\n",
      "Epoch 44/50\n",
      "380/380 [==============================] - 154s 405ms/step - loss: 0.3901 - accuracy: 0.8388 - val_loss: 0.4185 - val_accuracy: 0.8404\n",
      "Epoch 45/50\n",
      "380/380 [==============================] - 154s 404ms/step - loss: 0.3744 - accuracy: 0.8421 - val_loss: 0.4588 - val_accuracy: 0.7713\n",
      "Epoch 46/50\n",
      "380/380 [==============================] - 153s 403ms/step - loss: 0.3396 - accuracy: 0.8711 - val_loss: 0.3613 - val_accuracy: 0.8298\n",
      "Epoch 47/50\n",
      "380/380 [==============================] - 155s 407ms/step - loss: 0.3669 - accuracy: 0.8586 - val_loss: 0.4021 - val_accuracy: 0.8191\n",
      "Epoch 48/50\n",
      "380/380 [==============================] - 154s 404ms/step - loss: 0.3363 - accuracy: 0.8572 - val_loss: 0.2955 - val_accuracy: 0.8457\n",
      "Epoch 49/50\n",
      "380/380 [==============================] - 153s 404ms/step - loss: 0.3513 - accuracy: 0.8612 - val_loss: 0.2904 - val_accuracy: 0.8457\n",
      "Epoch 50/50\n",
      "380/380 [==============================] - 153s 403ms/step - loss: 0.3502 - accuracy: 0.8658 - val_loss: 0.4366 - val_accuracy: 0.8085\n"
     ]
    }
   ],
   "source": [
    "history = model3.fit(\n",
    "    train_data_gen2,\n",
    "    steps_per_epoch=380,\n",
    "    epochs=50,\n",
    "    validation_data=validation_data_gen2,\n",
    "    validation_steps=47\n",
    ")"
   ]
  },
  {
   "cell_type": "markdown",
   "metadata": {},
   "source": [
    "## Network #4"
   ]
  },
  {
   "cell_type": "markdown",
   "metadata": {},
   "source": [
    "For the next two networks we will try to use layers from pre-trained models to help our new model identify more useful features for its task."
   ]
  },
  {
   "cell_type": "code",
   "execution_count": null,
   "metadata": {},
   "outputs": [],
   "source": [
    "model4 = "
   ]
  },
  {
   "cell_type": "markdown",
   "metadata": {},
   "source": [
    "## Network #5"
   ]
  },
  {
   "cell_type": "code",
   "execution_count": null,
   "metadata": {},
   "outputs": [],
   "source": [
    "model5 = "
   ]
  }
 ],
 "metadata": {
  "kernelspec": {
   "display_name": "Python 3",
   "language": "python",
   "name": "python3"
  },
  "language_info": {
   "codemirror_mode": {
    "name": "ipython",
    "version": 3
   },
   "file_extension": ".py",
   "mimetype": "text/x-python",
   "name": "python",
   "nbconvert_exporter": "python",
   "pygments_lexer": "ipython3",
   "version": "3.7.7"
  }
 },
 "nbformat": 4,
 "nbformat_minor": 4
}
