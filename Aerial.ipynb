{
 "cells": [
  {
   "cell_type": "markdown",
   "metadata": {},
   "source": [
    "# Classifying Aerial Imagery Into Arbitrary Classes With Keras"
   ]
  },
  {
   "cell_type": "markdown",
   "metadata": {},
   "source": [
    "This experiment uses the UC Merced land use imagery dataset, which contains X classes of aerial photos taken from the USGS Urban Area Imagery Survey. I grouped 1,900 labeled images into three new classes:\n",
    "\n",
    "- paved\n",
    "- unpaved\n",
    "- built \n",
    "\n",
    "I will attempt to train five neural network that are capable of generalizing features common to the examples in each of the classes. I expect that the unpaved images should be the easiest to classify, and the other two to be difficult. While I can perceive commonalities between, say, an airport runway and a parking lot, or a hospital and a house, from the air, impermeable/buit surfaces can appear very similar in color, texture, and the way they reflect light. This is a tricky classification, and human evaluators may disagree on which bucket to put a given image in. For that reason, the built/paved classification will probably be the challenge that the winning network will have to meet."
   ]
  },
  {
   "cell_type": "code",
   "execution_count": 1,
   "metadata": {},
   "outputs": [],
   "source": [
    "import pandas as pd\n",
    "import numpy as np\n",
    "import tensorflow as tf\n",
    "from tensorflow import keras\n",
    "import os\n",
    "import numpy as np\n",
    "import matplotlib.pyplot as plt\n",
    "from sklearn import metrics\n",
    "import split_folders\n",
    "%config InlineBackend.figure_formats = set(['retina'])\n",
    "%matplotlib inline\n",
    "import seaborn as sns\n",
    "import pyplot_themes as themes\n",
    "os.environ[\"KMP_DUPLICATE_LIB_OK\"]=\"TRUE\""
   ]
  },
  {
   "cell_type": "code",
   "execution_count": 2,
   "metadata": {},
   "outputs": [],
   "source": [
    "# plot settings\n",
    "themes.theme_solarized_light2(fontsize=10)\n",
    "plt.rcParams[\"figure.figsize\"] = (16,8)\n",
    "plt.rcParams['font.sans-serif'] = ['news gothic std']\n",
    "sns.set_palette(themes.palettes.FiveThirtyEight.colors)\n",
    "pd.options.display.float_format = '{:.7f}'.format"
   ]
  },
  {
   "cell_type": "code",
   "execution_count": 3,
   "metadata": {},
   "outputs": [],
   "source": [
    "from tensorflow.keras.preprocessing.image import ImageDataGenerator \n",
    "from tensorflow.keras.preprocessing import image\n",
    "from tensorflow.keras import layers\n",
    "from tensorflow.keras.models import Sequential \n",
    "from tensorflow.keras.layers import Conv2D, MaxPooling2D \n",
    "from tensorflow.keras.layers import Activation, Dropout, Flatten, Dense \n",
    "from tensorflow.keras import backend as K \n",
    "from tensorflow.keras import Model\n",
    "  \n",
    "img_width, img_height = 256, 256"
   ]
  },
  {
   "cell_type": "code",
   "execution_count": 4,
   "metadata": {},
   "outputs": [],
   "source": [
    "train_image_generator = ImageDataGenerator(rescale=1. / 255) # Generator for our training data\n",
    "validation_image_generator = ImageDataGenerator(rescale=1. / 255) # Generator for our validation data"
   ]
  },
  {
   "cell_type": "code",
   "execution_count": 5,
   "metadata": {},
   "outputs": [],
   "source": [
    "test_image_generator = ImageDataGenerator(rescale=1. / 255) # Generator for our validation data"
   ]
  },
  {
   "cell_type": "code",
   "execution_count": 6,
   "metadata": {},
   "outputs": [
    {
     "output_type": "stream",
     "name": "stdout",
     "text": [
      "Found 1520 images belonging to 3 classes.\n"
     ]
    }
   ],
   "source": [
    "train_data_gen = train_image_generator.flow_from_directory(batch_size=4,\n",
    "                                                           directory='images/train',\n",
    "                                                           shuffle=True,\n",
    "                                                           target_size=(img_height, img_width),\n",
    "                                                           class_mode='categorical')"
   ]
  },
  {
   "cell_type": "code",
   "execution_count": 7,
   "metadata": {},
   "outputs": [
    {
     "output_type": "stream",
     "name": "stdout",
     "text": [
      "Found 190 images belonging to 3 classes.\n"
     ]
    }
   ],
   "source": [
    "validation_data_gen = validation_image_generator.flow_from_directory(batch_size=4,\n",
    "                                                           directory='images/val',\n",
    "                                                           shuffle=True,\n",
    "                                                           target_size=(img_height, img_width),\n",
    "                                                           class_mode='categorical')"
   ]
  },
  {
   "cell_type": "markdown",
   "metadata": {},
   "source": [
    "## Network #1"
   ]
  },
  {
   "cell_type": "markdown",
   "metadata": {},
   "source": [
    "### Architecture\n",
    "\n",
    "This model will follow an architecture from a sample binary classifier for cats and dogs, with three neurons in the final output layer instead of two. There are three convolutional layers with max pooling.\n",
    "\n",
    "### Hyperparameters\n",
    "\n",
    "For a baseline we will not adjust any of the default parameters except for batch/step size to allow my CPU to train this model."
   ]
  },
  {
   "cell_type": "code",
   "execution_count": 8,
   "metadata": {},
   "outputs": [],
   "source": [
    "model = Sequential([\n",
    "    Conv2D(16, 3, padding='same', activation='relu', input_shape=(img_height, img_width ,3)),\n",
    "    MaxPooling2D(),\n",
    "    Conv2D(32, 3, padding='same', activation='relu'),\n",
    "    MaxPooling2D(),\n",
    "    Conv2D(64, 3, padding='same', activation='relu'),\n",
    "    MaxPooling2D(),\n",
    "    Flatten(),\n",
    "    Dense(512, activation='relu'),\n",
    "    Dense(3, activation='softmax')\n",
    "])"
   ]
  },
  {
   "cell_type": "code",
   "execution_count": 352,
   "metadata": {},
   "outputs": [],
   "source": [
    "model.compile(optimizer='adam',\n",
    "              loss=tf.keras.losses.CategoricalCrossentropy(from_logits=True),\n",
    "              metrics=['accuracy'])"
   ]
  },
  {
   "cell_type": "code",
   "execution_count": 353,
   "metadata": {},
   "outputs": [],
   "source": [
    "model.optimizer.epsilon = 0.1"
   ]
  },
  {
   "cell_type": "code",
   "execution_count": 354,
   "metadata": {},
   "outputs": [
    {
     "name": "stdout",
     "output_type": "stream",
     "text": [
      "Model: \"sequential_12\"\n",
      "_________________________________________________________________\n",
      "Layer (type)                 Output Shape              Param #   \n",
      "=================================================================\n",
      "conv2d_63 (Conv2D)           (None, 256, 256, 16)      448       \n",
      "_________________________________________________________________\n",
      "max_pooling2d_55 (MaxPooling (None, 128, 128, 16)      0         \n",
      "_________________________________________________________________\n",
      "conv2d_64 (Conv2D)           (None, 128, 128, 32)      4640      \n",
      "_________________________________________________________________\n",
      "max_pooling2d_56 (MaxPooling (None, 64, 64, 32)        0         \n",
      "_________________________________________________________________\n",
      "conv2d_65 (Conv2D)           (None, 64, 64, 64)        18496     \n",
      "_________________________________________________________________\n",
      "max_pooling2d_57 (MaxPooling (None, 32, 32, 64)        0         \n",
      "_________________________________________________________________\n",
      "flatten_13 (Flatten)         (None, 65536)             0         \n",
      "_________________________________________________________________\n",
      "dense_30 (Dense)             (None, 512)               33554944  \n",
      "_________________________________________________________________\n",
      "dense_31 (Dense)             (None, 3)                 1539      \n",
      "=================================================================\n",
      "Total params: 33,580,067\n",
      "Trainable params: 33,580,067\n",
      "Non-trainable params: 0\n",
      "_________________________________________________________________\n"
     ]
    }
   ],
   "source": [
    "model.summary()"
   ]
  },
  {
   "cell_type": "code",
   "execution_count": 355,
   "metadata": {},
   "outputs": [
    {
     "name": "stdout",
     "output_type": "stream",
     "text": [
      "Train for 380 steps, validate for 47 steps\n",
      "Epoch 1/15\n",
      "380/380 [==============================] - 147s 387ms/step - loss: 1.0941 - accuracy: 0.3664 - val_loss: 1.0952 - val_accuracy: 0.3564\n",
      "Epoch 2/15\n",
      "380/380 [==============================] - 140s 369ms/step - loss: 1.0732 - accuracy: 0.4454 - val_loss: 1.0815 - val_accuracy: 0.3404\n",
      "Epoch 3/15\n",
      "380/380 [==============================] - 141s 371ms/step - loss: 1.0262 - accuracy: 0.5151 - val_loss: 0.9806 - val_accuracy: 0.5957\n",
      "Epoch 4/15\n",
      "380/380 [==============================] - 141s 371ms/step - loss: 0.9717 - accuracy: 0.5770 - val_loss: 0.9300 - val_accuracy: 0.6330\n",
      "Epoch 5/15\n",
      "380/380 [==============================] - 140s 370ms/step - loss: 0.9215 - accuracy: 0.6289 - val_loss: 0.8726 - val_accuracy: 0.6809\n",
      "Epoch 6/15\n",
      "380/380 [==============================] - 141s 371ms/step - loss: 0.8618 - accuracy: 0.6993 - val_loss: 0.8800 - val_accuracy: 0.6383\n",
      "Epoch 7/15\n",
      "380/380 [==============================] - 141s 370ms/step - loss: 0.8238 - accuracy: 0.7382 - val_loss: 0.8217 - val_accuracy: 0.7447\n",
      "Epoch 8/15\n",
      "380/380 [==============================] - 140s 369ms/step - loss: 0.7744 - accuracy: 0.8007 - val_loss: 0.8147 - val_accuracy: 0.7128\n",
      "Epoch 9/15\n",
      "380/380 [==============================] - 140s 368ms/step - loss: 0.7407 - accuracy: 0.8243 - val_loss: 0.8295 - val_accuracy: 0.6968\n",
      "Epoch 10/15\n",
      "380/380 [==============================] - 139s 366ms/step - loss: 0.7016 - accuracy: 0.8638 - val_loss: 0.8696 - val_accuracy: 0.6596\n",
      "Epoch 11/15\n",
      "380/380 [==============================] - 141s 372ms/step - loss: 0.6826 - accuracy: 0.8836 - val_loss: 0.7836 - val_accuracy: 0.7606\n",
      "Epoch 12/15\n",
      "380/380 [==============================] - 141s 371ms/step - loss: 0.6609 - accuracy: 0.9000 - val_loss: 0.7909 - val_accuracy: 0.7819\n",
      "Epoch 13/15\n",
      "380/380 [==============================] - 141s 371ms/step - loss: 0.6363 - accuracy: 0.9257 - val_loss: 0.8843 - val_accuracy: 0.6543\n",
      "Epoch 14/15\n",
      "380/380 [==============================] - 141s 370ms/step - loss: 0.6304 - accuracy: 0.9283 - val_loss: 0.7749 - val_accuracy: 0.7979\n",
      "Epoch 15/15\n",
      "380/380 [==============================] - 141s 371ms/step - loss: 0.6260 - accuracy: 0.9336 - val_loss: 0.7928 - val_accuracy: 0.7500\n"
     ]
    }
   ],
   "source": [
    "history = model.fit(\n",
    "    train_data_gen,\n",
    "    steps_per_epoch=380,\n",
    "    epochs=15,\n",
    "    validation_data=validation_data_gen,\n",
    "    validation_steps=47\n",
    ")"
   ]
  },
  {
   "cell_type": "code",
   "execution_count": 356,
   "metadata": {
    "collapsed": true
   },
   "outputs": [
    {
     "name": "stdout",
     "output_type": "stream",
     "text": [
      "Train for 380 steps, validate for 47 steps\n",
      "Epoch 1/15\n",
      "380/380 [==============================] - 141s 371ms/step - loss: 0.6070 - accuracy: 0.9526 - val_loss: 0.7914 - val_accuracy: 0.7553\n",
      "Epoch 2/15\n",
      "380/380 [==============================] - 726s 2s/step - loss: 0.5962 - accuracy: 0.9612 - val_loss: 0.7892 - val_accuracy: 0.7660\n",
      "Epoch 3/15\n",
      "380/380 [==============================] - 143s 375ms/step - loss: 0.5887 - accuracy: 0.9658 - val_loss: 0.7908 - val_accuracy: 0.7447\n",
      "Epoch 4/15\n",
      "380/380 [==============================] - 142s 373ms/step - loss: 0.5855 - accuracy: 0.9678 - val_loss: 0.7885 - val_accuracy: 0.7500\n",
      "Epoch 5/15\n",
      "380/380 [==============================] - 142s 375ms/step - loss: 0.5819 - accuracy: 0.9717 - val_loss: 0.8612 - val_accuracy: 0.6702\n",
      "Epoch 6/15\n",
      "380/380 [==============================] - 140s 368ms/step - loss: 0.5846 - accuracy: 0.9704 - val_loss: 0.7896 - val_accuracy: 0.7500\n",
      "Epoch 7/15\n",
      "380/380 [==============================] - 142s 373ms/step - loss: 0.5778 - accuracy: 0.9757 - val_loss: 0.7884 - val_accuracy: 0.7606\n",
      "Epoch 8/15\n",
      "380/380 [==============================] - 141s 370ms/step - loss: 0.5750 - accuracy: 0.9770 - val_loss: 0.7909 - val_accuracy: 0.7606\n",
      "Epoch 9/15\n",
      "380/380 [==============================] - 140s 369ms/step - loss: 0.5801 - accuracy: 0.9730 - val_loss: 0.7807 - val_accuracy: 0.7660\n",
      "Epoch 10/15\n",
      "380/380 [==============================] - 138s 364ms/step - loss: 0.5744 - accuracy: 0.9776 - val_loss: 0.7924 - val_accuracy: 0.7500\n",
      "Epoch 11/15\n",
      "380/380 [==============================] - 140s 367ms/step - loss: 0.5744 - accuracy: 0.9776 - val_loss: 0.7877 - val_accuracy: 0.7394\n",
      "Epoch 12/15\n",
      "380/380 [==============================] - 142s 373ms/step - loss: 0.5780 - accuracy: 0.9743 - val_loss: 0.7886 - val_accuracy: 0.7500\n",
      "Epoch 13/15\n",
      "380/380 [==============================] - 141s 372ms/step - loss: 0.5724 - accuracy: 0.9803 - val_loss: 0.7937 - val_accuracy: 0.7181\n",
      "Epoch 14/15\n",
      "380/380 [==============================] - 141s 370ms/step - loss: 0.5737 - accuracy: 0.9789 - val_loss: 0.7835 - val_accuracy: 0.7553\n",
      "Epoch 15/15\n",
      "380/380 [==============================] - 140s 368ms/step - loss: 0.5769 - accuracy: 0.9763 - val_loss: 0.7918 - val_accuracy: 0.7447\n"
     ]
    }
   ],
   "source": [
    "historyb = model.fit(\n",
    "    train_data_gen,\n",
    "    steps_per_epoch=380,\n",
    "    epochs=15,\n",
    "    validation_data=validation_data_gen,\n",
    "    validation_steps=47\n",
    ")"
   ]
  },
  {
   "cell_type": "code",
   "execution_count": 357,
   "metadata": {
    "collapsed": true
   },
   "outputs": [
    {
     "name": "stdout",
     "output_type": "stream",
     "text": [
      "INFO:tensorflow:Assets written to: model1/assets\n"
     ]
    }
   ],
   "source": [
    "model.save('model1')"
   ]
  },
  {
   "cell_type": "code",
   "execution_count": null,
   "metadata": {
    "collapsed": true
   },
   "outputs": [],
   "source": [
    "test = test_image_generator.flow_from_directory(batch_size=1,\n",
    "                                                    directory='images/dumb',\n",
    "                                                    target_size=(img_height, img_width),\n",
    "                                                    class_mode='categorical',\n",
    "                                                    shuffle=False\n",
    "                                                    )"
   ]
  },
  {
   "cell_type": "code",
   "execution_count": 399,
   "metadata": {
    "scrolled": true
   },
   "outputs": [
    {
     "data": {
      "text/plain": [
       "<matplotlib.axes._subplots.AxesSubplot at 0x7f983e454890>"
      ]
     },
     "execution_count": 399,
     "metadata": {},
     "output_type": "execute_result"
    },
    {
     "data": {
      "image/png": "[encoded data removed]",
      "text/plain": [
       "<Figure size 1152x576 with 2 Axes>"
      ]
     },
     "metadata": {
      "image/png": {
       "height": 465,
       "width": 550
      }
     },
     "output_type": "display_data"
    }
   ],
   "source": [
    "pred = model.predict_generator(test2a, len(test.filenames))\n",
    "pred = np.argmax(pred,axis=1)\n",
    "sns.heatmap(metrics.confusion_matrix(pred,test2a.classes), annot=True,  cmap='Blues', square=True, \n",
    "            xticklabels=test.class_indices.keys(), yticklabels=test2a.class_indices.keys())"
   ]
  },
  {
   "cell_type": "markdown",
   "metadata": {},
   "source": [
    "This model began overfitting during the third epoch, when validation loss started increasing as the training loss decreased until the model performed perfectly on the training data but made larger and larger errors in the validation examples."
   ]
  },
  {
   "cell_type": "markdown",
   "metadata": {},
   "source": [
    "## Network #2"
   ]
  },
  {
   "cell_type": "markdown",
   "metadata": {},
   "source": [
    "The first network learned on the raw training images. To reduce the overfitting that occurred on the first run of this model I will add an augmentation step to the training ImageDataGenerator object that will rotate, shift, and zoom examples as they are fed to the network."
   ]
  },
  {
   "cell_type": "code",
   "execution_count": 8,
   "metadata": {},
   "outputs": [],
   "source": [
    "image_gen_train2 = ImageDataGenerator(\n",
    "                    rescale=1. / 255,\n",
    "                    rotation_range=30,\n",
    "                    width_shift_range=.15,\n",
    "                    height_shift_range=.15,\n",
    "                    horizontal_flip=True,\n",
    "                    zoom_range=0.15\n",
    "                    )"
   ]
  },
  {
   "cell_type": "code",
   "execution_count": 9,
   "metadata": {},
   "outputs": [
    {
     "output_type": "stream",
     "name": "stdout",
     "text": [
      "Found 1520 images belonging to 3 classes.\n"
     ]
    }
   ],
   "source": [
    "train_data_gen2 = image_gen_train2.flow_from_directory(batch_size=4,\n",
    "                                                     directory='images/train',\n",
    "                                                     shuffle=True,\n",
    "                                                     target_size=(img_height, img_width),\n",
    "                                                     class_mode='categorical')"
   ]
  },
  {
   "cell_type": "code",
   "execution_count": 10,
   "metadata": {},
   "outputs": [
    {
     "output_type": "stream",
     "name": "stdout",
     "text": [
      "Found 190 images belonging to 3 classes.\n"
     ]
    }
   ],
   "source": [
    "validation_data_gen2 = validation_image_generator.flow_from_directory(batch_size=4,\n",
    "                                                           directory='images/val',\n",
    "                                                           shuffle=True,\n",
    "                                                           target_size=(img_height, img_width),\n",
    "                                                           class_mode='categorical')"
   ]
  },
  {
   "cell_type": "code",
   "execution_count": 11,
   "metadata": {},
   "outputs": [
    {
     "output_type": "stream",
     "name": "stdout",
     "text": [
      "Found 190 images belonging to 3 classes.\n"
     ]
    }
   ],
   "source": [
    "test_data_gen2 = test_image_generator.flow_from_directory(batch_size=4,\n",
    "                                                           directory='images/test',\n",
    "                                                           target_size=(img_height, img_width),\n",
    "                                                           class_mode='categorical')"
   ]
  },
  {
   "cell_type": "code",
   "execution_count": 13,
   "metadata": {},
   "outputs": [],
   "source": [
    "model2 = Sequential([\n",
    "    Conv2D(16, 3, padding='same', activation='relu', input_shape=(img_height, img_width, 3)),\n",
    "    MaxPooling2D(),\n",
    "    Conv2D(32, 3, padding='same', activation='relu'),\n",
    "    MaxPooling2D(),\n",
    "    Conv2D(64, 3, padding='same', activation='relu'),\n",
    "    MaxPooling2D(),\n",
    "    Flatten(),\n",
    "    Dense(512, activation='relu'),\n",
    "    Dense(3, activation='softmax')\n",
    "])"
   ]
  },
  {
   "cell_type": "code",
   "execution_count": 340,
   "metadata": {},
   "outputs": [],
   "source": [
    "model2.compile(optimizer='adam',\n",
    "              loss=tf.keras.losses.CategoricalCrossentropy(from_logits=True),\n",
    "              metrics=['accuracy'])"
   ]
  },
  {
   "cell_type": "code",
   "execution_count": 341,
   "metadata": {},
   "outputs": [],
   "source": [
    "model2.optimizer.epsilon = .1"
   ]
  },
  {
   "cell_type": "code",
   "execution_count": 342,
   "metadata": {},
   "outputs": [
    {
     "name": "stdout",
     "output_type": "stream",
     "text": [
      "Train for 380 steps, validate for 47 steps\n",
      "Epoch 1/30\n",
      "380/380 [==============================] - 164s 431ms/step - loss: 1.0976 - accuracy: 0.3414 - val_loss: 1.0885 - val_accuracy: 0.3989\n",
      "Epoch 2/30\n",
      "380/380 [==============================] - 163s 428ms/step - loss: 1.0820 - accuracy: 0.4283 - val_loss: 1.0521 - val_accuracy: 0.4947\n",
      "Epoch 3/30\n",
      "380/380 [==============================] - 163s 430ms/step - loss: 1.0518 - accuracy: 0.4724 - val_loss: 1.0215 - val_accuracy: 0.5000\n",
      "Epoch 4/30\n",
      "380/380 [==============================] - 165s 435ms/step - loss: 1.0076 - accuracy: 0.5191 - val_loss: 0.9664 - val_accuracy: 0.5532\n",
      "Epoch 5/30\n",
      "380/380 [==============================] - 161s 423ms/step - loss: 0.9882 - accuracy: 0.5283 - val_loss: 0.9318 - val_accuracy: 0.6011\n",
      "Epoch 6/30\n",
      "380/380 [==============================] - 161s 424ms/step - loss: 0.9504 - accuracy: 0.5625 - val_loss: 0.8993 - val_accuracy: 0.6809\n",
      "Epoch 7/30\n",
      "380/380 [==============================] - 161s 424ms/step - loss: 0.9427 - accuracy: 0.5671 - val_loss: 0.8975 - val_accuracy: 0.6277\n",
      "Epoch 8/30\n",
      "380/380 [==============================] - 158s 417ms/step - loss: 0.9156 - accuracy: 0.6178 - val_loss: 0.8779 - val_accuracy: 0.6277\n",
      "Epoch 9/30\n",
      "380/380 [==============================] - 160s 420ms/step - loss: 0.9127 - accuracy: 0.6191 - val_loss: 0.8849 - val_accuracy: 0.6117\n",
      "Epoch 10/30\n",
      "380/380 [==============================] - 157s 414ms/step - loss: 0.8932 - accuracy: 0.6388 - val_loss: 0.9492 - val_accuracy: 0.5798\n",
      "Epoch 11/30\n",
      "380/380 [==============================] - 156s 412ms/step - loss: 0.8834 - accuracy: 0.6579 - val_loss: 0.8418 - val_accuracy: 0.7234\n",
      "Epoch 12/30\n",
      "380/380 [==============================] - 158s 415ms/step - loss: 0.8832 - accuracy: 0.6520 - val_loss: 0.9499 - val_accuracy: 0.5638\n",
      "Epoch 13/30\n",
      "380/380 [==============================] - 158s 415ms/step - loss: 0.8803 - accuracy: 0.6480 - val_loss: 0.8628 - val_accuracy: 0.6543\n",
      "Epoch 14/30\n",
      "380/380 [==============================] - 155s 408ms/step - loss: 0.8677 - accuracy: 0.6730 - val_loss: 0.8635 - val_accuracy: 0.6649\n",
      "Epoch 15/30\n",
      "380/380 [==============================] - 156s 410ms/step - loss: 0.8642 - accuracy: 0.6763 - val_loss: 0.8129 - val_accuracy: 0.7128\n",
      "Epoch 16/30\n",
      "380/380 [==============================] - 157s 413ms/step - loss: 0.8621 - accuracy: 0.6757 - val_loss: 0.8192 - val_accuracy: 0.7287\n",
      "Epoch 17/30\n",
      "380/380 [==============================] - 157s 412ms/step - loss: 0.8542 - accuracy: 0.6908 - val_loss: 0.8210 - val_accuracy: 0.7447\n",
      "Epoch 18/30\n",
      "380/380 [==============================] - 1765s 5s/step - loss: 0.8377 - accuracy: 0.7007 - val_loss: 0.7883 - val_accuracy: 0.7872\n",
      "Epoch 19/30\n",
      "380/380 [==============================] - 154s 405ms/step - loss: 0.8320 - accuracy: 0.7086 - val_loss: 0.7926 - val_accuracy: 0.7553\n",
      "Epoch 20/30\n",
      "380/380 [==============================] - 154s 405ms/step - loss: 0.8244 - accuracy: 0.7211 - val_loss: 0.8529 - val_accuracy: 0.6489\n",
      "Epoch 21/30\n",
      "380/380 [==============================] - 154s 406ms/step - loss: 0.8215 - accuracy: 0.7303 - val_loss: 0.7930 - val_accuracy: 0.7447\n",
      "Epoch 22/30\n",
      "380/380 [==============================] - 154s 404ms/step - loss: 0.8106 - accuracy: 0.7336 - val_loss: 0.8479 - val_accuracy: 0.6915\n",
      "Epoch 23/30\n",
      "380/380 [==============================] - 153s 404ms/step - loss: 0.8147 - accuracy: 0.7257 - val_loss: 0.7532 - val_accuracy: 0.8032\n",
      "Epoch 24/30\n",
      "380/380 [==============================] - 153s 404ms/step - loss: 0.7964 - accuracy: 0.7520 - val_loss: 0.7458 - val_accuracy: 0.8191\n",
      "Epoch 25/30\n",
      "380/380 [==============================] - 154s 406ms/step - loss: 0.7937 - accuracy: 0.7579 - val_loss: 0.8058 - val_accuracy: 0.7500\n",
      "Epoch 26/30\n",
      "380/380 [==============================] - 154s 405ms/step - loss: 0.7847 - accuracy: 0.7579 - val_loss: 0.7416 - val_accuracy: 0.8191\n",
      "Epoch 27/30\n",
      "380/380 [==============================] - 154s 405ms/step - loss: 0.7668 - accuracy: 0.7895 - val_loss: 0.7557 - val_accuracy: 0.7979\n",
      "Epoch 28/30\n",
      "380/380 [==============================] - 154s 405ms/step - loss: 0.7774 - accuracy: 0.7776 - val_loss: 0.7483 - val_accuracy: 0.7872\n",
      "Epoch 29/30\n",
      "380/380 [==============================] - 155s 408ms/step - loss: 0.7826 - accuracy: 0.7612 - val_loss: 0.7366 - val_accuracy: 0.8191\n",
      "Epoch 30/30\n",
      "380/380 [==============================] - 156s 410ms/step - loss: 0.7589 - accuracy: 0.7934 - val_loss: 0.7348 - val_accuracy: 0.8191\n"
     ]
    }
   ],
   "source": [
    "history = model2.fit(\n",
    "    train_data_gen2,\n",
    "    steps_per_epoch=380,\n",
    "    epochs=30,\n",
    "    validation_data=validation_data_gen2,\n",
    "    validation_steps=47\n",
    ")"
   ]
  },
  {
   "cell_type": "code",
   "execution_count": 347,
   "metadata": {},
   "outputs": [
    {
     "name": "stdout",
     "output_type": "stream",
     "text": [
      "INFO:tensorflow:Assets written to: model2/assets\n"
     ]
    }
   ],
   "source": [
    "model2.save('model2')"
   ]
  },
  {
   "cell_type": "code",
   "execution_count": 344,
   "metadata": {},
   "outputs": [
    {
     "name": "stdout",
     "output_type": "stream",
     "text": [
      "Train for 380 steps, validate for 47 steps\n",
      "Epoch 1/30\n",
      "380/380 [==============================] - 158s 415ms/step - loss: 0.7642 - accuracy: 0.7842 - val_loss: 0.7727 - val_accuracy: 0.7766\n",
      "Epoch 2/30\n",
      "380/380 [==============================] - 155s 408ms/step - loss: 0.7511 - accuracy: 0.8046 - val_loss: 0.7464 - val_accuracy: 0.7926\n",
      "Epoch 3/30\n",
      "380/380 [==============================] - 155s 409ms/step - loss: 0.7650 - accuracy: 0.7836 - val_loss: 0.7187 - val_accuracy: 0.8298\n",
      "Epoch 4/30\n",
      "380/380 [==============================] - 155s 407ms/step - loss: 0.7533 - accuracy: 0.7908 - val_loss: 0.7095 - val_accuracy: 0.8404\n",
      "Epoch 5/30\n",
      "380/380 [==============================] - 155s 408ms/step - loss: 0.7609 - accuracy: 0.7882 - val_loss: 0.7223 - val_accuracy: 0.8191\n",
      "Epoch 6/30\n",
      "380/380 [==============================] - 155s 407ms/step - loss: 0.7543 - accuracy: 0.7980 - val_loss: 0.7642 - val_accuracy: 0.7766\n",
      "Epoch 7/30\n",
      "380/380 [==============================] - 155s 408ms/step - loss: 0.7561 - accuracy: 0.7875 - val_loss: 0.7347 - val_accuracy: 0.8138\n",
      "Epoch 8/30\n",
      "380/380 [==============================] - 156s 410ms/step - loss: 0.7277 - accuracy: 0.8237 - val_loss: 0.7090 - val_accuracy: 0.8457\n",
      "Epoch 9/30\n",
      "380/380 [==============================] - 155s 408ms/step - loss: 0.7343 - accuracy: 0.8158 - val_loss: 0.6950 - val_accuracy: 0.8777\n",
      "Epoch 10/30\n",
      "380/380 [==============================] - 157s 412ms/step - loss: 0.7377 - accuracy: 0.8112 - val_loss: 0.6975 - val_accuracy: 0.8670\n",
      "Epoch 11/30\n",
      "380/380 [==============================] - 155s 407ms/step - loss: 0.7383 - accuracy: 0.8138 - val_loss: 0.7151 - val_accuracy: 0.8245\n",
      "Epoch 12/30\n",
      "380/380 [==============================] - 155s 407ms/step - loss: 0.7305 - accuracy: 0.8224 - val_loss: 0.7117 - val_accuracy: 0.8298\n",
      "Epoch 13/30\n",
      "380/380 [==============================] - 157s 413ms/step - loss: 0.7325 - accuracy: 0.8145 - val_loss: 0.6957 - val_accuracy: 0.8670\n",
      "Epoch 14/30\n",
      "380/380 [==============================] - 151s 398ms/step - loss: 0.7318 - accuracy: 0.8191 - val_loss: 0.6876 - val_accuracy: 0.8670\n",
      "Epoch 15/30\n",
      "380/380 [==============================] - 151s 398ms/step - loss: 0.7144 - accuracy: 0.8342 - val_loss: 0.7767 - val_accuracy: 0.7447\n",
      "Epoch 16/30\n",
      "380/380 [==============================] - 151s 398ms/step - loss: 0.7293 - accuracy: 0.8230 - val_loss: 0.7319 - val_accuracy: 0.8245\n",
      "Epoch 17/30\n",
      "380/380 [==============================] - 151s 398ms/step - loss: 0.7342 - accuracy: 0.8132 - val_loss: 0.6963 - val_accuracy: 0.8617\n",
      "Epoch 18/30\n",
      "380/380 [==============================] - 151s 398ms/step - loss: 0.7230 - accuracy: 0.8250 - val_loss: 0.6964 - val_accuracy: 0.8564\n",
      "Epoch 19/30\n",
      "380/380 [==============================] - 151s 398ms/step - loss: 0.7119 - accuracy: 0.8408 - val_loss: 0.6881 - val_accuracy: 0.8670\n",
      "Epoch 20/30\n",
      "380/380 [==============================] - 151s 398ms/step - loss: 0.7394 - accuracy: 0.8112 - val_loss: 0.7163 - val_accuracy: 0.8298\n",
      "Epoch 21/30\n",
      "380/380 [==============================] - 151s 398ms/step - loss: 0.7250 - accuracy: 0.8217 - val_loss: 0.6961 - val_accuracy: 0.8511\n",
      "Epoch 22/30\n",
      "380/380 [==============================] - 151s 399ms/step - loss: 0.7146 - accuracy: 0.8322 - val_loss: 0.7049 - val_accuracy: 0.8351\n",
      "Epoch 23/30\n",
      "380/380 [==============================] - 151s 398ms/step - loss: 0.7116 - accuracy: 0.8368 - val_loss: 0.6881 - val_accuracy: 0.8617\n",
      "Epoch 24/30\n",
      "380/380 [==============================] - 151s 397ms/step - loss: 0.7137 - accuracy: 0.8375 - val_loss: 0.7216 - val_accuracy: 0.8351\n",
      "Epoch 25/30\n",
      "380/380 [==============================] - 152s 399ms/step - loss: 0.7151 - accuracy: 0.8329 - val_loss: 0.6884 - val_accuracy: 0.8617\n",
      "Epoch 26/30\n",
      "380/380 [==============================] - 151s 398ms/step - loss: 0.6973 - accuracy: 0.8520 - val_loss: 0.7348 - val_accuracy: 0.8138\n",
      "Epoch 27/30\n",
      "380/380 [==============================] - 152s 400ms/step - loss: 0.7068 - accuracy: 0.8474 - val_loss: 0.7355 - val_accuracy: 0.8085\n",
      "Epoch 28/30\n",
      "380/380 [==============================] - 152s 399ms/step - loss: 0.7047 - accuracy: 0.8493 - val_loss: 0.6839 - val_accuracy: 0.8670\n",
      "Epoch 29/30\n",
      "380/380 [==============================] - 151s 399ms/step - loss: 0.6983 - accuracy: 0.8513 - val_loss: 0.7043 - val_accuracy: 0.8564\n",
      "Epoch 30/30\n",
      "380/380 [==============================] - 152s 399ms/step - loss: 0.7156 - accuracy: 0.8322 - val_loss: 0.6902 - val_accuracy: 0.8564\n"
     ]
    }
   ],
   "source": [
    "history2b = model2.fit(\n",
    "    train_data_gen2,\n",
    "    steps_per_epoch=380,\n",
    "    epochs=30,\n",
    "    validation_data=validation_data_gen2,\n",
    "    validation_steps=47\n",
    ")"
   ]
  },
  {
   "cell_type": "code",
   "execution_count": 345,
   "metadata": {},
   "outputs": [
    {
     "name": "stdout",
     "output_type": "stream",
     "text": [
      "Train for 380 steps, validate for 47 steps\n",
      "Epoch 1/30\n",
      "380/380 [==============================] - 155s 407ms/step - loss: 0.7056 - accuracy: 0.8454 - val_loss: 0.6761 - val_accuracy: 0.8777\n",
      "Epoch 2/30\n",
      "380/380 [==============================] - 156s 411ms/step - loss: 0.7056 - accuracy: 0.8434 - val_loss: 0.6940 - val_accuracy: 0.8617\n",
      "Epoch 3/30\n",
      "380/380 [==============================] - 155s 408ms/step - loss: 0.7068 - accuracy: 0.8414 - val_loss: 0.7157 - val_accuracy: 0.8351\n",
      "Epoch 4/30\n",
      "380/380 [==============================] - 155s 409ms/step - loss: 0.7110 - accuracy: 0.8342 - val_loss: 0.6718 - val_accuracy: 0.8989\n",
      "Epoch 5/30\n",
      "380/380 [==============================] - 158s 416ms/step - loss: 0.6919 - accuracy: 0.8572 - val_loss: 0.7167 - val_accuracy: 0.8351\n",
      "Epoch 6/30\n",
      "380/380 [==============================] - 156s 410ms/step - loss: 0.6973 - accuracy: 0.8520 - val_loss: 0.7008 - val_accuracy: 0.8457\n",
      "Epoch 7/30\n",
      "380/380 [==============================] - 159s 417ms/step - loss: 0.6911 - accuracy: 0.8599 - val_loss: 0.7301 - val_accuracy: 0.8138\n",
      "Epoch 8/30\n",
      "380/380 [==============================] - 154s 406ms/step - loss: 0.7106 - accuracy: 0.8342 - val_loss: 0.6955 - val_accuracy: 0.8511\n",
      "Epoch 9/30\n",
      "380/380 [==============================] - 152s 399ms/step - loss: 0.6880 - accuracy: 0.8592 - val_loss: 0.6775 - val_accuracy: 0.8777\n",
      "Epoch 10/30\n",
      "380/380 [==============================] - 152s 399ms/step - loss: 0.6792 - accuracy: 0.8717 - val_loss: 0.6764 - val_accuracy: 0.8777\n",
      "Epoch 11/30\n",
      "380/380 [==============================] - 151s 398ms/step - loss: 0.7051 - accuracy: 0.8421 - val_loss: 0.6743 - val_accuracy: 0.8723\n",
      "Epoch 12/30\n",
      "380/380 [==============================] - 151s 398ms/step - loss: 0.6969 - accuracy: 0.8493 - val_loss: 0.6818 - val_accuracy: 0.8723\n",
      "Epoch 13/30\n",
      "380/380 [==============================] - 151s 398ms/step - loss: 0.6789 - accuracy: 0.8724 - val_loss: 0.6618 - val_accuracy: 0.8830\n",
      "Epoch 14/30\n",
      "380/380 [==============================] - 152s 399ms/step - loss: 0.6893 - accuracy: 0.8572 - val_loss: 0.7391 - val_accuracy: 0.8138\n",
      "Epoch 15/30\n",
      "380/380 [==============================] - 151s 398ms/step - loss: 0.7027 - accuracy: 0.8454 - val_loss: 0.6467 - val_accuracy: 0.9149\n",
      "Epoch 16/30\n",
      "380/380 [==============================] - 152s 399ms/step - loss: 0.6916 - accuracy: 0.8553 - val_loss: 0.6463 - val_accuracy: 0.9096\n",
      "Epoch 17/30\n",
      "380/380 [==============================] - 151s 398ms/step - loss: 0.6833 - accuracy: 0.8658 - val_loss: 0.6780 - val_accuracy: 0.8723\n",
      "Epoch 18/30\n",
      "380/380 [==============================] - 151s 399ms/step - loss: 0.6829 - accuracy: 0.8645 - val_loss: 0.6484 - val_accuracy: 0.9096\n",
      "Epoch 19/30\n",
      "380/380 [==============================] - 151s 398ms/step - loss: 0.6859 - accuracy: 0.8605 - val_loss: 0.7021 - val_accuracy: 0.8511\n",
      "Epoch 20/30\n",
      "380/380 [==============================] - 151s 399ms/step - loss: 0.6799 - accuracy: 0.8691 - val_loss: 0.6839 - val_accuracy: 0.8670\n",
      "Epoch 21/30\n",
      "380/380 [==============================] - 151s 398ms/step - loss: 0.6887 - accuracy: 0.8566 - val_loss: 0.6699 - val_accuracy: 0.8777\n",
      "Epoch 22/30\n",
      "380/380 [==============================] - 151s 398ms/step - loss: 0.6722 - accuracy: 0.8770 - val_loss: 0.6817 - val_accuracy: 0.8617\n",
      "Epoch 23/30\n",
      "380/380 [==============================] - 152s 399ms/step - loss: 0.6758 - accuracy: 0.8743 - val_loss: 0.6626 - val_accuracy: 0.8830\n",
      "Epoch 24/30\n",
      "380/380 [==============================] - 151s 398ms/step - loss: 0.6782 - accuracy: 0.8730 - val_loss: 0.6583 - val_accuracy: 0.8883\n",
      "Epoch 25/30\n",
      "380/380 [==============================] - 152s 400ms/step - loss: 0.6761 - accuracy: 0.8730 - val_loss: 0.6894 - val_accuracy: 0.8564\n",
      "Epoch 26/30\n",
      "380/380 [==============================] - 152s 399ms/step - loss: 0.6818 - accuracy: 0.8678 - val_loss: 0.7226 - val_accuracy: 0.8245\n",
      "Epoch 27/30\n",
      "380/380 [==============================] - 151s 398ms/step - loss: 0.6761 - accuracy: 0.8724 - val_loss: 0.6620 - val_accuracy: 0.8830\n",
      "Epoch 28/30\n",
      "380/380 [==============================] - 151s 399ms/step - loss: 0.6656 - accuracy: 0.8829 - val_loss: 0.6660 - val_accuracy: 0.8883\n",
      "Epoch 29/30\n",
      "380/380 [==============================] - 151s 399ms/step - loss: 0.6692 - accuracy: 0.8816 - val_loss: 0.6658 - val_accuracy: 0.8883\n",
      "Epoch 30/30\n",
      "380/380 [==============================] - 152s 400ms/step - loss: 0.6725 - accuracy: 0.8757 - val_loss: 0.6543 - val_accuracy: 0.8989\n"
     ]
    }
   ],
   "source": [
    "history2c = model2.fit(\n",
    "    train_data_gen2,\n",
    "    steps_per_epoch=380,\n",
    "    epochs=30,\n",
    "    validation_data=validation_data_gen2,\n",
    "    validation_steps=47\n",
    ")"
   ]
  },
  {
   "cell_type": "code",
   "execution_count": 346,
   "metadata": {},
   "outputs": [
    {
     "name": "stdout",
     "output_type": "stream",
     "text": [
      "Train for 380 steps, validate for 47 steps\n",
      "Epoch 1/30\n",
      "380/380 [==============================] - 155s 408ms/step - loss: 0.6710 - accuracy: 0.8796 - val_loss: 0.6543 - val_accuracy: 0.8936\n",
      "Epoch 2/30\n",
      "380/380 [==============================] - 153s 404ms/step - loss: 0.6707 - accuracy: 0.8789 - val_loss: 0.6615 - val_accuracy: 0.8936\n",
      "Epoch 3/30\n",
      "380/380 [==============================] - 155s 407ms/step - loss: 0.6656 - accuracy: 0.8816 - val_loss: 0.6688 - val_accuracy: 0.8830\n",
      "Epoch 4/30\n",
      "380/380 [==============================] - 154s 406ms/step - loss: 0.6720 - accuracy: 0.8789 - val_loss: 0.6710 - val_accuracy: 0.8777\n",
      "Epoch 5/30\n",
      "380/380 [==============================] - 156s 411ms/step - loss: 0.6587 - accuracy: 0.8934 - val_loss: 0.6698 - val_accuracy: 0.8830\n",
      "Epoch 6/30\n",
      "380/380 [==============================] - 154s 406ms/step - loss: 0.6777 - accuracy: 0.8691 - val_loss: 0.6762 - val_accuracy: 0.8723\n",
      "Epoch 7/30\n",
      "380/380 [==============================] - 157s 413ms/step - loss: 0.6709 - accuracy: 0.8750 - val_loss: 0.6849 - val_accuracy: 0.8564\n",
      "Epoch 8/30\n",
      "380/380 [==============================] - 156s 409ms/step - loss: 0.6682 - accuracy: 0.8822 - val_loss: 0.6525 - val_accuracy: 0.8989\n",
      "Epoch 9/30\n",
      "380/380 [==============================] - 157s 413ms/step - loss: 0.6578 - accuracy: 0.8934 - val_loss: 0.7008 - val_accuracy: 0.8404\n",
      "Epoch 10/30\n",
      "380/380 [==============================] - 155s 408ms/step - loss: 0.6673 - accuracy: 0.8829 - val_loss: 0.7065 - val_accuracy: 0.8404\n",
      "Epoch 11/30\n",
      "380/380 [==============================] - 156s 410ms/step - loss: 0.6674 - accuracy: 0.8789 - val_loss: 0.6521 - val_accuracy: 0.9043\n",
      "Epoch 12/30\n",
      "380/380 [==============================] - 155s 409ms/step - loss: 0.6696 - accuracy: 0.8829 - val_loss: 0.6513 - val_accuracy: 0.9043\n",
      "Epoch 13/30\n",
      "380/380 [==============================] - 156s 409ms/step - loss: 0.6614 - accuracy: 0.8855 - val_loss: 0.6685 - val_accuracy: 0.8830\n",
      "Epoch 14/30\n",
      "380/380 [==============================] - 155s 409ms/step - loss: 0.6615 - accuracy: 0.8842 - val_loss: 0.6714 - val_accuracy: 0.8777\n",
      "Epoch 15/30\n",
      "380/380 [==============================] - 157s 413ms/step - loss: 0.6624 - accuracy: 0.8842 - val_loss: 0.6919 - val_accuracy: 0.8457\n",
      "Epoch 16/30\n",
      "380/380 [==============================] - 152s 400ms/step - loss: 0.6640 - accuracy: 0.8862 - val_loss: 0.6649 - val_accuracy: 0.8830\n",
      "Epoch 17/30\n",
      "380/380 [==============================] - 154s 404ms/step - loss: 0.6576 - accuracy: 0.8914 - val_loss: 0.6708 - val_accuracy: 0.8777\n",
      "Epoch 18/30\n",
      "380/380 [==============================] - 153s 403ms/step - loss: 0.6623 - accuracy: 0.8901 - val_loss: 0.6684 - val_accuracy: 0.8830\n",
      "Epoch 19/30\n",
      "380/380 [==============================] - 156s 411ms/step - loss: 0.6621 - accuracy: 0.8842 - val_loss: 0.6715 - val_accuracy: 0.8830\n",
      "Epoch 20/30\n",
      "380/380 [==============================] - 157s 412ms/step - loss: 0.6632 - accuracy: 0.8842 - val_loss: 0.6740 - val_accuracy: 0.8670\n",
      "Epoch 21/30\n",
      "380/380 [==============================] - 156s 410ms/step - loss: 0.6616 - accuracy: 0.8875 - val_loss: 0.6494 - val_accuracy: 0.9043\n",
      "Epoch 22/30\n",
      "380/380 [==============================] - 156s 410ms/step - loss: 0.6548 - accuracy: 0.8961 - val_loss: 0.6567 - val_accuracy: 0.8989\n",
      "Epoch 23/30\n",
      "380/380 [==============================] - 155s 409ms/step - loss: 0.6537 - accuracy: 0.8954 - val_loss: 0.6452 - val_accuracy: 0.9043\n",
      "Epoch 24/30\n",
      "380/380 [==============================] - 155s 409ms/step - loss: 0.6597 - accuracy: 0.8928 - val_loss: 0.6560 - val_accuracy: 0.8989\n",
      "Epoch 25/30\n",
      "380/380 [==============================] - 156s 410ms/step - loss: 0.6591 - accuracy: 0.8875 - val_loss: 0.6604 - val_accuracy: 0.8883\n",
      "Epoch 26/30\n",
      "380/380 [==============================] - 157s 413ms/step - loss: 0.6474 - accuracy: 0.9007 - val_loss: 0.6573 - val_accuracy: 0.8830\n",
      "Epoch 27/30\n",
      "380/380 [==============================] - 152s 400ms/step - loss: 0.6517 - accuracy: 0.9000 - val_loss: 0.6522 - val_accuracy: 0.9043\n",
      "Epoch 28/30\n",
      "380/380 [==============================] - 160s 421ms/step - loss: 0.6650 - accuracy: 0.8868 - val_loss: 0.6743 - val_accuracy: 0.8777\n",
      "Epoch 29/30\n",
      "380/380 [==============================] - 156s 411ms/step - loss: 0.6508 - accuracy: 0.9013 - val_loss: 0.6804 - val_accuracy: 0.8670\n",
      "Epoch 30/30\n",
      "380/380 [==============================] - 157s 413ms/step - loss: 0.6577 - accuracy: 0.8934 - val_loss: 0.6529 - val_accuracy: 0.8936\n"
     ]
    }
   ],
   "source": [
    "history2d = model2.fit(\n",
    "    train_data_gen2,\n",
    "    steps_per_epoch=380,\n",
    "    epochs=30,\n",
    "    validation_data=validation_data_gen2,\n",
    "    validation_steps=47\n",
    ")"
   ]
  },
  {
   "cell_type": "markdown",
   "metadata": {},
   "source": [
    " It looks like image augmentation had a positive effect on the model fitting process. Performance on the test data should be improved."
   ]
  },
  {
   "cell_type": "code",
   "execution_count": 26,
   "metadata": {},
   "outputs": [],
   "source": [
    "test_image_generator_2 = ImageDataGenerator(rescale=1. / 255)"
   ]
  },
  {
   "cell_type": "code",
   "execution_count": 27,
   "metadata": {
    "collapsed": true
   },
   "outputs": [
    {
     "output_type": "stream",
     "name": "stdout",
     "text": [
      "Found 190 images belonging to 3 classes.\n"
     ]
    }
   ],
   "source": [
    "test2a = test_image_generator_2.flow_from_directory(batch_size=1,\n",
    "                                                    directory='images/dumb',\n",
    "                                                    target_size=(img_height, img_width),\n",
    "                                                    class_mode='categorical',\n",
    "                                                    shuffle=False\n",
    "                                                    )"
   ]
  },
  {
   "cell_type": "code",
   "execution_count": 398,
   "metadata": {
    "scrolled": false
   },
   "outputs": [
    {
     "data": {
      "text/plain": [
       "<matplotlib.axes._subplots.AxesSubplot at 0x7f984db2fa90>"
      ]
     },
     "execution_count": 398,
     "metadata": {},
     "output_type": "execute_result"
    },
    {
     "data": {
      "image/png": "[encoded data removed]",
      "text/plain": [
       "<Figure size 1152x576 with 2 Axes>"
      ]
     },
     "metadata": {
      "image/png": {
       "height": 465,
       "width": 550
      }
     },
     "output_type": "display_data"
    }
   ],
   "source": [
    "pred = model2.predict_generator(test2a, len(test2a.filenames))\n",
    "pred = np.argmax(pred,axis=1)\n",
    "sns.heatmap(metrics.confusion_matrix(pred,test2a.classes), annot=True, square=True,\n",
    "             cmap='Blues',xticklabels=test2a.class_indices.keys(), yticklabels=test2a.class_indices.keys())"
   ]
  },
  {
   "cell_type": "code",
   "execution_count": 243,
   "metadata": {},
   "outputs": [
    {
     "name": "stdout",
     "output_type": "stream",
     "text": [
      "conv2d_3 (3, 3, 3, 16)\n",
      "conv2d_4 (3, 3, 16, 32)\n",
      "conv2d_5 (3, 3, 32, 64)\n"
     ]
    }
   ],
   "source": [
    "for layer in model2.layers:\n",
    "    # check for convolutional layer\n",
    "    if 'conv' not in layer.name:\n",
    "        continue\n",
    "    # get filter weights\n",
    "    filters, biases = layer.get_weights()\n",
    "    print(layer.name, filters.shape)"
   ]
  },
  {
   "cell_type": "code",
   "execution_count": 246,
   "metadata": {},
   "outputs": [],
   "source": [
    "filters, biases = model2.layers[0].get_weights()"
   ]
  },
  {
   "cell_type": "code",
   "execution_count": 247,
   "metadata": {},
   "outputs": [],
   "source": [
    "f_min, f_max = filters.min(), filters.max()\n",
    "filters = (filters - f_min) / (f_max - f_min)"
   ]
  },
  {
   "cell_type": "code",
   "execution_count": 250,
   "metadata": {},
   "outputs": [
    {
     "data": {
      "image/png": "[encoded data removed]",
      "text/plain": [
       "<Figure size 1152x576 with 18 Axes>"
      ]
     },
     "metadata": {
      "image/png": {
       "height": 452,
       "width": 710
      }
     },
     "output_type": "display_data"
    }
   ],
   "source": [
    "n_filters, ix = 6, 1\n",
    "for i in range(n_filters):\n",
    "    # get the filter\n",
    "    f = filters[:, :, :, i]\n",
    "    # plot each channel separately\n",
    "    for j in range(3):\n",
    "        # specify subplot and turn of axis\n",
    "        ax = plt.subplot(n_filters, 3, ix)\n",
    "        ax.set_xticks([])\n",
    "        ax.set_yticks([])\n",
    "        # plot filter channel in grayscale\n",
    "        plt.imshow(f[:, :, j], cmap='gray')\n",
    "        ix += 1\n",
    "# show the figure\n",
    "plt.show()"
   ]
  },
  {
   "cell_type": "code",
   "execution_count": 251,
   "metadata": {},
   "outputs": [
    {
     "name": "stdout",
     "output_type": "stream",
     "text": [
      "0 conv2d_3 (None, 256, 256, 16)\n",
      "2 conv2d_4 (None, 128, 128, 32)\n",
      "4 conv2d_5 (None, 64, 64, 64)\n"
     ]
    }
   ],
   "source": [
    "for i in range(len(model2.layers)):\n",
    "\tlayer = model2.layers[i]\n",
    "\t# check for convolutional layer\n",
    "\tif 'conv' not in layer.name:\n",
    "\t\tcontinue\n",
    "\t# summarize output shape\n",
    "\tprint(i, layer.name, layer.output.shape)"
   ]
  },
  {
   "cell_type": "code",
   "execution_count": 268,
   "metadata": {},
   "outputs": [],
   "source": [
    "model2_l1 = Model(inputs=model2.inputs, outputs=model2.layers[4].output)"
   ]
  },
  {
   "cell_type": "code",
   "execution_count": 282,
   "metadata": {},
   "outputs": [],
   "source": [
    "img = image.load_img('images/untitled.png')"
   ]
  },
  {
   "cell_type": "code",
   "execution_count": 283,
   "metadata": {},
   "outputs": [],
   "source": [
    "# convert the image to an array\n",
    "img = image.img_to_array(img)\n",
    "# expand dimensions so that it represents a single 'sample'\n",
    "img = K.expand_dims(img, axis=0)"
   ]
  },
  {
   "cell_type": "code",
   "execution_count": 284,
   "metadata": {},
   "outputs": [],
   "source": [
    "img = img/ 255.0"
   ]
  },
  {
   "cell_type": "code",
   "execution_count": 285,
   "metadata": {},
   "outputs": [],
   "source": [
    "feature_maps = model2_l1.predict(img)"
   ]
  },
  {
   "cell_type": "code",
   "execution_count": 286,
   "metadata": {},
   "outputs": [
    {
     "data": {
      "image/png": "[encoded data removed]",
      "text/plain": [
       "<Figure size 1152x576 with 64 Axes>"
      ]
     },
     "metadata": {
      "image/png": {
       "height": 452,
       "width": 861
      }
     },
     "output_type": "display_data"
    }
   ],
   "source": [
    "square = 8\n",
    "ix = 1\n",
    "for _ in range(square):\n",
    "\tfor _ in range(square):\n",
    "\t\t# specify subplot and turn of axis\n",
    "\t\tax = plt.subplot(square, square, ix)\n",
    "\t\tax.set_xticks([])\n",
    "\t\tax.set_yticks([])\n",
    "\t\t# plot filter channel in grayscale\n",
    "\t\tplt.imshow(feature_maps[0, :, :, ix-1], cmap='gray')\n",
    "\t\tix += 1\n",
    "# show the figure\n",
    "plt.show()"
   ]
  },
  {
   "cell_type": "markdown",
   "metadata": {},
   "source": [
    "The only significant misclassification happening here are for images labeled as \"paved\" which in fact contain identifiable buildings around the edges. A number of these have been classified as \"built,\" which is actually a reasonable category to put them in. Depending on the practical application of the artificial categories I created for this experiment, I might want to retrain the model but relabel those types of examples (if I now decided I wanted such images classified as \"built\"). Alternatively, that level of fuzziness might be inherent in the classses themselves. In that case, maybe the 1 in 6 error is acceptable. Besides this seemingly understandable confusion, the classes are being predicted extremely well."
   ]
  },
  {
   "cell_type": "markdown",
   "metadata": {},
   "source": [
    "## Network #3"
   ]
  },
  {
   "cell_type": "markdown",
   "metadata": {},
   "source": []
  },
  {
   "source": [
    "This model based on the version of the Xception network in the Keras documentation"
   ],
   "cell_type": "markdown",
   "metadata": {}
  },
  {
   "cell_type": "code",
   "execution_count": 11,
   "metadata": {},
   "outputs": [],
   "source": [
    "def make_model(input_shape, num_classes):\n",
    "    inputs = keras.Input(shape=input_shape)\n",
    "    # Image augmentation block\n",
    "    x = inputs\n",
    "\n",
    "    # Entry block\n",
    "    x = layers.Conv2D(32, 3, strides=2, padding=\"same\")(x)\n",
    "    x = layers.BatchNormalization()(x)\n",
    "    x = layers.Activation(\"relu\")(x)\n",
    "\n",
    "    x = layers.Conv2D(64, 3, padding=\"same\")(x)\n",
    "    x = layers.BatchNormalization()(x)\n",
    "    x = layers.Activation(\"relu\")(x)\n",
    "\n",
    "    previous_block_activation = x  # Set aside residual\n",
    "\n",
    "    for size in [128, 256, 512, 728]:\n",
    "        x = layers.Activation(\"relu\")(x)\n",
    "        x = layers.SeparableConv2D(size, 3, padding=\"same\")(x)\n",
    "        x = layers.BatchNormalization()(x)\n",
    "\n",
    "        x = layers.Activation(\"relu\")(x)\n",
    "        x = layers.SeparableConv2D(size, 3, padding=\"same\")(x)\n",
    "        x = layers.BatchNormalization()(x)\n",
    "\n",
    "        x = layers.MaxPooling2D(3, strides=2, padding=\"same\")(x)\n",
    "\n",
    "        # Project residual\n",
    "        residual = layers.Conv2D(size, 1, strides=2, padding=\"same\")(\n",
    "            previous_block_activation\n",
    "        )\n",
    "        x = layers.add([x, residual])  # Add back residual\n",
    "        previous_block_activation = x  # Set aside next residual\n",
    "\n",
    "    x = layers.SeparableConv2D(1024, 3, padding=\"same\")(x)\n",
    "    x = layers.BatchNormalization()(x)\n",
    "    x = layers.Activation(\"relu\")(x)\n",
    "\n",
    "    x = layers.GlobalAveragePooling2D()(x)\n",
    "    if num_classes == 2:\n",
    "        activation = \"sigmoid\"\n",
    "        units = 1\n",
    "    else:\n",
    "        activation = \"softmax\"\n",
    "        units = num_classes\n",
    "\n",
    "    # x = layers.Dropout(.4)(x)\n",
    "    outputs = layers.Dense(units, activation=activation)(x)\n",
    "    return keras.Model(inputs, outputs)"
   ]
  },
  {
   "cell_type": "code",
   "execution_count": null,
   "metadata": {},
   "outputs": [],
   "source": [
    "model3 = make_model(input_shape=(256,256) + (3,), num_classes=3)"
   ]
  },
  {
   "cell_type": "code",
   "execution_count": 15,
   "metadata": {},
   "outputs": [
    {
     "name": "stdout",
     "output_type": "stream",
     "text": [
      "Model: \"model_1\"\n",
      "__________________________________________________________________________________________________\n",
      "Layer (type)                    Output Shape         Param #     Connected to                     \n",
      "==================================================================================================\n",
      "input_2 (InputLayer)            [(None, 256, 256, 3) 0                                            \n",
      "__________________________________________________________________________________________________\n",
      "conv2d_6 (Conv2D)               (None, 128, 128, 32) 896         input_2[0][0]                    \n",
      "__________________________________________________________________________________________________\n",
      "batch_normalization_11 (BatchNo (None, 128, 128, 32) 128         conv2d_6[0][0]                   \n",
      "__________________________________________________________________________________________________\n",
      "activation_11 (Activation)      (None, 128, 128, 32) 0           batch_normalization_11[0][0]     \n",
      "__________________________________________________________________________________________________\n",
      "conv2d_7 (Conv2D)               (None, 128, 128, 64) 18496       activation_11[0][0]              \n",
      "__________________________________________________________________________________________________\n",
      "batch_normalization_12 (BatchNo (None, 128, 128, 64) 256         conv2d_7[0][0]                   \n",
      "__________________________________________________________________________________________________\n",
      "activation_12 (Activation)      (None, 128, 128, 64) 0           batch_normalization_12[0][0]     \n",
      "__________________________________________________________________________________________________\n",
      "activation_13 (Activation)      (None, 128, 128, 64) 0           activation_12[0][0]              \n",
      "__________________________________________________________________________________________________\n",
      "separable_conv2d_9 (SeparableCo (None, 128, 128, 128 8896        activation_13[0][0]              \n",
      "__________________________________________________________________________________________________\n",
      "batch_normalization_13 (BatchNo (None, 128, 128, 128 512         separable_conv2d_9[0][0]         \n",
      "__________________________________________________________________________________________________\n",
      "activation_14 (Activation)      (None, 128, 128, 128 0           batch_normalization_13[0][0]     \n",
      "__________________________________________________________________________________________________\n",
      "separable_conv2d_10 (SeparableC (None, 128, 128, 128 17664       activation_14[0][0]              \n",
      "__________________________________________________________________________________________________\n",
      "batch_normalization_14 (BatchNo (None, 128, 128, 128 512         separable_conv2d_10[0][0]        \n",
      "__________________________________________________________________________________________________\n",
      "max_pooling2d_4 (MaxPooling2D)  (None, 64, 64, 128)  0           batch_normalization_14[0][0]     \n",
      "__________________________________________________________________________________________________\n",
      "conv2d_8 (Conv2D)               (None, 64, 64, 128)  8320        activation_12[0][0]              \n",
      "__________________________________________________________________________________________________\n",
      "add_4 (Add)                     (None, 64, 64, 128)  0           max_pooling2d_4[0][0]            \n",
      "                                                                 conv2d_8[0][0]                   \n",
      "__________________________________________________________________________________________________\n",
      "activation_15 (Activation)      (None, 64, 64, 128)  0           add_4[0][0]                      \n",
      "__________________________________________________________________________________________________\n",
      "separable_conv2d_11 (SeparableC (None, 64, 64, 256)  34176       activation_15[0][0]              \n",
      "__________________________________________________________________________________________________\n",
      "batch_normalization_15 (BatchNo (None, 64, 64, 256)  1024        separable_conv2d_11[0][0]        \n",
      "__________________________________________________________________________________________________\n",
      "activation_16 (Activation)      (None, 64, 64, 256)  0           batch_normalization_15[0][0]     \n",
      "__________________________________________________________________________________________________\n",
      "separable_conv2d_12 (SeparableC (None, 64, 64, 256)  68096       activation_16[0][0]              \n",
      "__________________________________________________________________________________________________\n",
      "batch_normalization_16 (BatchNo (None, 64, 64, 256)  1024        separable_conv2d_12[0][0]        \n",
      "__________________________________________________________________________________________________\n",
      "max_pooling2d_5 (MaxPooling2D)  (None, 32, 32, 256)  0           batch_normalization_16[0][0]     \n",
      "__________________________________________________________________________________________________\n",
      "conv2d_9 (Conv2D)               (None, 32, 32, 256)  33024       add_4[0][0]                      \n",
      "__________________________________________________________________________________________________\n",
      "add_5 (Add)                     (None, 32, 32, 256)  0           max_pooling2d_5[0][0]            \n",
      "                                                                 conv2d_9[0][0]                   \n",
      "__________________________________________________________________________________________________\n",
      "activation_17 (Activation)      (None, 32, 32, 256)  0           add_5[0][0]                      \n",
      "__________________________________________________________________________________________________\n",
      "separable_conv2d_13 (SeparableC (None, 32, 32, 512)  133888      activation_17[0][0]              \n",
      "__________________________________________________________________________________________________\n",
      "batch_normalization_17 (BatchNo (None, 32, 32, 512)  2048        separable_conv2d_13[0][0]        \n",
      "__________________________________________________________________________________________________\n",
      "activation_18 (Activation)      (None, 32, 32, 512)  0           batch_normalization_17[0][0]     \n",
      "__________________________________________________________________________________________________\n",
      "separable_conv2d_14 (SeparableC (None, 32, 32, 512)  267264      activation_18[0][0]              \n",
      "__________________________________________________________________________________________________\n",
      "batch_normalization_18 (BatchNo (None, 32, 32, 512)  2048        separable_conv2d_14[0][0]        \n",
      "__________________________________________________________________________________________________\n",
      "max_pooling2d_6 (MaxPooling2D)  (None, 16, 16, 512)  0           batch_normalization_18[0][0]     \n",
      "__________________________________________________________________________________________________\n",
      "conv2d_10 (Conv2D)              (None, 16, 16, 512)  131584      add_5[0][0]                      \n",
      "__________________________________________________________________________________________________\n",
      "add_6 (Add)                     (None, 16, 16, 512)  0           max_pooling2d_6[0][0]            \n",
      "                                                                 conv2d_10[0][0]                  \n",
      "__________________________________________________________________________________________________\n",
      "activation_19 (Activation)      (None, 16, 16, 512)  0           add_6[0][0]                      \n",
      "__________________________________________________________________________________________________\n",
      "separable_conv2d_15 (SeparableC (None, 16, 16, 728)  378072      activation_19[0][0]              \n",
      "__________________________________________________________________________________________________\n",
      "batch_normalization_19 (BatchNo (None, 16, 16, 728)  2912        separable_conv2d_15[0][0]        \n",
      "__________________________________________________________________________________________________\n",
      "activation_20 (Activation)      (None, 16, 16, 728)  0           batch_normalization_19[0][0]     \n",
      "__________________________________________________________________________________________________\n",
      "separable_conv2d_16 (SeparableC (None, 16, 16, 728)  537264      activation_20[0][0]              \n",
      "__________________________________________________________________________________________________\n",
      "batch_normalization_20 (BatchNo (None, 16, 16, 728)  2912        separable_conv2d_16[0][0]        \n",
      "__________________________________________________________________________________________________\n",
      "max_pooling2d_7 (MaxPooling2D)  (None, 8, 8, 728)    0           batch_normalization_20[0][0]     \n",
      "__________________________________________________________________________________________________\n",
      "conv2d_11 (Conv2D)              (None, 8, 8, 728)    373464      add_6[0][0]                      \n",
      "__________________________________________________________________________________________________\n",
      "add_7 (Add)                     (None, 8, 8, 728)    0           max_pooling2d_7[0][0]            \n",
      "                                                                 conv2d_11[0][0]                  \n",
      "__________________________________________________________________________________________________\n",
      "separable_conv2d_17 (SeparableC (None, 8, 8, 1024)   753048      add_7[0][0]                      \n",
      "__________________________________________________________________________________________________\n",
      "batch_normalization_21 (BatchNo (None, 8, 8, 1024)   4096        separable_conv2d_17[0][0]        \n",
      "__________________________________________________________________________________________________\n",
      "activation_21 (Activation)      (None, 8, 8, 1024)   0           batch_normalization_21[0][0]     \n",
      "__________________________________________________________________________________________________\n",
      "global_average_pooling2d_1 (Glo (None, 1024)         0           activation_21[0][0]              \n",
      "__________________________________________________________________________________________________\n",
      "dense_1 (Dense)                 (None, 3)            3075        global_average_pooling2d_1[0][0] \n",
      "==================================================================================================\n",
      "Total params: 2,784,699\n",
      "Trainable params: 2,775,963\n",
      "Non-trainable params: 8,736\n",
      "__________________________________________________________________________________________________\n"
     ]
    }
   ],
   "source": [
    "model3.summary()"
   ]
  },
  {
   "cell_type": "code",
   "execution_count": 13,
   "metadata": {},
   "outputs": [],
   "source": [
    "model3.compile(optimizer='adam',\n",
    "              loss=tf.keras.losses.CategoricalCrossentropy(from_logits=True),\n",
    "              metrics=['accuracy'])"
   ]
  },
  {
   "cell_type": "code",
   "execution_count": 390,
   "metadata": {},
   "outputs": [],
   "source": [
    "model3.optimizer.epsilon = 1.0"
   ]
  },
  {
   "cell_type": "code",
   "execution_count": 391,
   "metadata": {},
   "outputs": [
    {
     "name": "stdout",
     "output_type": "stream",
     "text": [
      "Train for 380 steps, validate for 47 steps\n",
      "Epoch 1/30\n",
      "380/380 [==============================] - 390s 1s/step - loss: 1.0586 - accuracy: 0.4303 - val_loss: 1.1013 - val_accuracy: 0.3670\n",
      "Epoch 2/30\n",
      "380/380 [==============================] - 297s 780ms/step - loss: 0.9715 - accuracy: 0.5480 - val_loss: 0.9440 - val_accuracy: 0.5851\n",
      "Epoch 3/30\n",
      "380/380 [==============================] - 296s 779ms/step - loss: 0.9360 - accuracy: 0.6138 - val_loss: 0.8876 - val_accuracy: 0.6755\n",
      "Epoch 4/30\n",
      "380/380 [==============================] - 293s 771ms/step - loss: 0.9052 - accuracy: 0.6553 - val_loss: 0.8534 - val_accuracy: 0.7181\n",
      "Epoch 5/30\n",
      "380/380 [==============================] - 291s 766ms/step - loss: 0.8825 - accuracy: 0.6842 - val_loss: 0.8377 - val_accuracy: 0.7128\n",
      "Epoch 6/30\n",
      "380/380 [==============================] - 286s 753ms/step - loss: 0.8658 - accuracy: 0.6901 - val_loss: 0.8090 - val_accuracy: 0.7287\n",
      "Epoch 7/30\n",
      "380/380 [==============================] - 292s 768ms/step - loss: 0.8490 - accuracy: 0.7079 - val_loss: 0.7943 - val_accuracy: 0.7447\n",
      "Epoch 8/30\n",
      "380/380 [==============================] - 291s 766ms/step - loss: 0.8396 - accuracy: 0.7197 - val_loss: 0.7990 - val_accuracy: 0.7447\n",
      "Epoch 9/30\n",
      "380/380 [==============================] - 291s 765ms/step - loss: 0.8232 - accuracy: 0.7375 - val_loss: 0.7917 - val_accuracy: 0.7447\n",
      "Epoch 10/30\n",
      "380/380 [==============================] - 289s 762ms/step - loss: 0.8147 - accuracy: 0.7441 - val_loss: 0.7512 - val_accuracy: 0.8032\n",
      "Epoch 11/30\n",
      "380/380 [==============================] - 282s 742ms/step - loss: 0.8093 - accuracy: 0.7500 - val_loss: 0.8203 - val_accuracy: 0.7181\n",
      "Epoch 12/30\n",
      "380/380 [==============================] - 281s 740ms/step - loss: 0.8045 - accuracy: 0.7592 - val_loss: 0.7770 - val_accuracy: 0.7660\n",
      "Epoch 13/30\n",
      "380/380 [==============================] - 282s 742ms/step - loss: 0.7961 - accuracy: 0.7664 - val_loss: 0.7852 - val_accuracy: 0.7766\n",
      "Epoch 14/30\n",
      "380/380 [==============================] - 282s 741ms/step - loss: 0.7872 - accuracy: 0.7671 - val_loss: 0.7760 - val_accuracy: 0.7660\n",
      "Epoch 15/30\n",
      "380/380 [==============================] - 281s 739ms/step - loss: 0.7863 - accuracy: 0.7691 - val_loss: 0.7458 - val_accuracy: 0.8032\n",
      "Epoch 16/30\n",
      "380/380 [==============================] - 281s 739ms/step - loss: 0.7830 - accuracy: 0.7684 - val_loss: 0.7549 - val_accuracy: 0.7872\n",
      "Epoch 17/30\n",
      "380/380 [==============================] - 281s 740ms/step - loss: 0.7711 - accuracy: 0.7914 - val_loss: 0.7317 - val_accuracy: 0.8138\n",
      "Epoch 18/30\n",
      "380/380 [==============================] - 280s 737ms/step - loss: 0.7762 - accuracy: 0.7757 - val_loss: 0.8430 - val_accuracy: 0.6968\n",
      "Epoch 19/30\n",
      "380/380 [==============================] - 280s 736ms/step - loss: 0.7645 - accuracy: 0.7967 - val_loss: 0.7275 - val_accuracy: 0.8245\n",
      "Epoch 20/30\n",
      "380/380 [==============================] - 280s 738ms/step - loss: 0.7632 - accuracy: 0.7947 - val_loss: 0.7553 - val_accuracy: 0.7766\n",
      "Epoch 21/30\n",
      "380/380 [==============================] - 280s 736ms/step - loss: 0.7588 - accuracy: 0.8046 - val_loss: 0.7512 - val_accuracy: 0.8032\n",
      "Epoch 22/30\n",
      "380/380 [==============================] - 279s 734ms/step - loss: 0.7525 - accuracy: 0.8053 - val_loss: 0.7703 - val_accuracy: 0.7766\n",
      "Epoch 23/30\n",
      "380/380 [==============================] - 279s 734ms/step - loss: 0.7507 - accuracy: 0.8033 - val_loss: 0.7578 - val_accuracy: 0.7872\n",
      "Epoch 24/30\n",
      "380/380 [==============================] - 278s 730ms/step - loss: 0.7478 - accuracy: 0.8059 - val_loss: 0.7542 - val_accuracy: 0.7926\n",
      "Epoch 25/30\n",
      "380/380 [==============================] - 290s 762ms/step - loss: 0.7430 - accuracy: 0.8125 - val_loss: 0.7453 - val_accuracy: 0.8032\n",
      "Epoch 26/30\n",
      "380/380 [==============================] - 285s 751ms/step - loss: 0.7382 - accuracy: 0.8197 - val_loss: 0.8335 - val_accuracy: 0.7128\n",
      "Epoch 27/30\n",
      "380/380 [==============================] - 282s 742ms/step - loss: 0.7410 - accuracy: 0.8158 - val_loss: 0.8116 - val_accuracy: 0.7287\n",
      "Epoch 28/30\n",
      "380/380 [==============================] - 283s 745ms/step - loss: 0.7320 - accuracy: 0.8322 - val_loss: 0.7251 - val_accuracy: 0.8245\n",
      "Epoch 29/30\n",
      "380/380 [==============================] - 276s 727ms/step - loss: 0.7325 - accuracy: 0.8211 - val_loss: 0.7378 - val_accuracy: 0.8085\n",
      "Epoch 30/30\n",
      "380/380 [==============================] - 280s 736ms/step - loss: 0.7263 - accuracy: 0.8276 - val_loss: 0.7242 - val_accuracy: 0.8245\n"
     ]
    }
   ],
   "source": [
    "history = model3.fit(\n",
    "    train_data_gen2,\n",
    "    steps_per_epoch=380,\n",
    "    epochs=30,\n",
    "    validation_data=validation_data_gen2,\n",
    "    validation_steps=47\n",
    ")"
   ]
  },
  {
   "cell_type": "code",
   "execution_count": 392,
   "metadata": {},
   "outputs": [
    {
     "name": "stdout",
     "output_type": "stream",
     "text": [
      "INFO:tensorflow:Assets written to: model3/assets\n"
     ]
    }
   ],
   "source": [
    "model3.save('model3')"
   ]
  },
  {
   "cell_type": "code",
   "execution_count": 393,
   "metadata": {},
   "outputs": [
    {
     "name": "stdout",
     "output_type": "stream",
     "text": [
      "Train for 380 steps, validate for 47 steps\n",
      "Epoch 1/15\n",
      "380/380 [==============================] - 283s 744ms/step - loss: 0.7266 - accuracy: 0.8349 - val_loss: 0.8167 - val_accuracy: 0.7394\n",
      "Epoch 2/15\n",
      "380/380 [==============================] - 283s 746ms/step - loss: 0.7294 - accuracy: 0.8230 - val_loss: 0.7331 - val_accuracy: 0.8085\n",
      "Epoch 3/15\n",
      "380/380 [==============================] - 284s 747ms/step - loss: 0.7260 - accuracy: 0.8316 - val_loss: 0.8159 - val_accuracy: 0.7234\n",
      "Epoch 4/15\n",
      "380/380 [==============================] - 284s 747ms/step - loss: 0.7201 - accuracy: 0.8388 - val_loss: 0.7325 - val_accuracy: 0.8138\n",
      "Epoch 5/15\n",
      "380/380 [==============================] - 280s 738ms/step - loss: 0.7254 - accuracy: 0.8296 - val_loss: 0.7676 - val_accuracy: 0.7819\n",
      "Epoch 6/15\n",
      "380/380 [==============================] - 276s 727ms/step - loss: 0.7177 - accuracy: 0.8401 - val_loss: 0.7655 - val_accuracy: 0.7660\n",
      "Epoch 7/15\n",
      "380/380 [==============================] - 277s 729ms/step - loss: 0.7180 - accuracy: 0.8401 - val_loss: 0.8545 - val_accuracy: 0.6755\n",
      "Epoch 8/15\n",
      "380/380 [==============================] - 277s 729ms/step - loss: 0.7095 - accuracy: 0.8513 - val_loss: 0.7536 - val_accuracy: 0.8032\n",
      "Epoch 9/15\n",
      "380/380 [==============================] - 276s 727ms/step - loss: 0.7033 - accuracy: 0.8546 - val_loss: 0.7201 - val_accuracy: 0.8351\n",
      "Epoch 10/15\n",
      "380/380 [==============================] - 276s 727ms/step - loss: 0.7097 - accuracy: 0.8500 - val_loss: 0.7293 - val_accuracy: 0.8138\n",
      "Epoch 11/15\n",
      "380/380 [==============================] - 277s 729ms/step - loss: 0.7068 - accuracy: 0.8467 - val_loss: 0.7260 - val_accuracy: 0.8191\n",
      "Epoch 12/15\n",
      "380/380 [==============================] - 276s 727ms/step - loss: 0.7025 - accuracy: 0.8533 - val_loss: 0.7204 - val_accuracy: 0.8298\n",
      "Epoch 13/15\n",
      "380/380 [==============================] - 276s 726ms/step - loss: 0.6978 - accuracy: 0.8520 - val_loss: 0.7806 - val_accuracy: 0.7606\n",
      "Epoch 14/15\n",
      "380/380 [==============================] - 276s 726ms/step - loss: 0.6959 - accuracy: 0.8651 - val_loss: 0.7395 - val_accuracy: 0.8032\n",
      "Epoch 15/15\n",
      "380/380 [==============================] - 289s 760ms/step - loss: 0.7023 - accuracy: 0.8513 - val_loss: 0.7514 - val_accuracy: 0.7872\n"
     ]
    }
   ],
   "source": [
    "history3b = model3.fit(\n",
    "    train_data_gen2,\n",
    "    steps_per_epoch=380,\n",
    "    epochs=15,\n",
    "    validation_data=validation_data_gen2,\n",
    "    validation_steps=47\n",
    ")"
   ]
  },
  {
   "cell_type": "code",
   "execution_count": 394,
   "metadata": {},
   "outputs": [
    {
     "name": "stdout",
     "output_type": "stream",
     "text": [
      "Train for 380 steps, validate for 47 steps\n",
      "Epoch 1/15\n",
      "380/380 [==============================] - 282s 743ms/step - loss: 0.6925 - accuracy: 0.8684 - val_loss: 0.7410 - val_accuracy: 0.8085\n",
      "Epoch 2/15\n",
      "380/380 [==============================] - 276s 726ms/step - loss: 0.6902 - accuracy: 0.8678 - val_loss: 0.7773 - val_accuracy: 0.7660\n",
      "Epoch 3/15\n",
      "380/380 [==============================] - 275s 724ms/step - loss: 0.6899 - accuracy: 0.8717 - val_loss: 0.6936 - val_accuracy: 0.8564\n",
      "Epoch 4/15\n",
      "380/380 [==============================] - 275s 724ms/step - loss: 0.6951 - accuracy: 0.8651 - val_loss: 0.7446 - val_accuracy: 0.8032\n",
      "Epoch 5/15\n",
      "380/380 [==============================] - 276s 726ms/step - loss: 0.6895 - accuracy: 0.8664 - val_loss: 0.7838 - val_accuracy: 0.7606\n",
      "Epoch 6/15\n",
      "380/380 [==============================] - 275s 724ms/step - loss: 0.6826 - accuracy: 0.8776 - val_loss: 0.7125 - val_accuracy: 0.8351\n",
      "Epoch 7/15\n",
      "380/380 [==============================] - 276s 725ms/step - loss: 0.6877 - accuracy: 0.8645 - val_loss: 0.7179 - val_accuracy: 0.8245\n",
      "Epoch 8/15\n",
      "380/380 [==============================] - 275s 723ms/step - loss: 0.6832 - accuracy: 0.8691 - val_loss: 0.7332 - val_accuracy: 0.8138\n",
      "Epoch 9/15\n",
      "380/380 [==============================] - 275s 723ms/step - loss: 0.6819 - accuracy: 0.8724 - val_loss: 0.7314 - val_accuracy: 0.8245\n",
      "Epoch 10/15\n",
      "380/380 [==============================] - 275s 723ms/step - loss: 0.6799 - accuracy: 0.8770 - val_loss: 0.7414 - val_accuracy: 0.8085\n",
      "Epoch 11/15\n",
      "380/380 [==============================] - 275s 724ms/step - loss: 0.6842 - accuracy: 0.8750 - val_loss: 0.6932 - val_accuracy: 0.8617\n",
      "Epoch 12/15\n",
      "380/380 [==============================] - 274s 722ms/step - loss: 0.6770 - accuracy: 0.8829 - val_loss: 0.6986 - val_accuracy: 0.8670\n",
      "Epoch 13/15\n",
      "380/380 [==============================] - 275s 723ms/step - loss: 0.6721 - accuracy: 0.8908 - val_loss: 0.7464 - val_accuracy: 0.8032\n",
      "Epoch 14/15\n",
      "380/380 [==============================] - 275s 724ms/step - loss: 0.6751 - accuracy: 0.8829 - val_loss: 0.7118 - val_accuracy: 0.8511\n",
      "Epoch 15/15\n",
      "380/380 [==============================] - 275s 725ms/step - loss: 0.6724 - accuracy: 0.8855 - val_loss: 0.7942 - val_accuracy: 0.7553\n"
     ]
    }
   ],
   "source": [
    "history3c = model3.fit(\n",
    "    train_data_gen2,\n",
    "    steps_per_epoch=380,\n",
    "    epochs=15,\n",
    "    validation_data=validation_data_gen2,\n",
    "    validation_steps=47\n",
    ")"
   ]
  },
  {
   "cell_type": "code",
   "execution_count": 312,
   "metadata": {},
   "outputs": [
    {
     "name": "stdout",
     "output_type": "stream",
     "text": [
      "Train for 380 steps, validate for 47 steps\n",
      "Epoch 1/5\n",
      "380/380 [==============================] - 539s 1s/step - loss: 0.6467 - accuracy: 0.9039 - val_loss: 0.6904 - val_accuracy: 0.8617\n",
      "Epoch 2/5\n",
      "380/380 [==============================] - 990s 3s/step - loss: 0.6379 - accuracy: 0.9158 - val_loss: 0.7925 - val_accuracy: 0.7553\n",
      "Epoch 3/5\n",
      "380/380 [==============================] - 295s 775ms/step - loss: 0.6520 - accuracy: 0.8974 - val_loss: 0.6639 - val_accuracy: 0.8936\n",
      "Epoch 4/5\n",
      "380/380 [==============================] - 293s 771ms/step - loss: 0.6377 - accuracy: 0.9145 - val_loss: 0.6360 - val_accuracy: 0.9149\n",
      "Epoch 5/5\n",
      "380/380 [==============================] - 296s 778ms/step - loss: 0.6487 - accuracy: 0.9046 - val_loss: 0.6592 - val_accuracy: 0.8936\n"
     ]
    }
   ],
   "source": [
    "history3c = model3.fit(\n",
    "    train_data_gen2,\n",
    "    steps_per_epoch=380,\n",
    "    epochs=5,\n",
    "    validation_data=validation_data_gen2,\n",
    "    validation_steps=47\n",
    ")"
   ]
  },
  {
   "cell_type": "code",
   "execution_count": 314,
   "metadata": {},
   "outputs": [
    {
     "name": "stdout",
     "output_type": "stream",
     "text": [
      "Train for 380 steps, validate for 47 steps\n",
      "Epoch 1/10\n",
      "380/380 [==============================] - 306s 805ms/step - loss: 0.6362 - accuracy: 0.9164 - val_loss: 0.7958 - val_accuracy: 0.7394\n",
      "Epoch 2/10\n",
      "380/380 [==============================] - 308s 810ms/step - loss: 0.6472 - accuracy: 0.9033 - val_loss: 0.6829 - val_accuracy: 0.8564\n",
      "Epoch 3/10\n",
      "380/380 [==============================] - 300s 789ms/step - loss: 0.6441 - accuracy: 0.9092 - val_loss: 0.7484 - val_accuracy: 0.7979\n",
      "Epoch 4/10\n",
      "380/380 [==============================] - 301s 792ms/step - loss: 0.6365 - accuracy: 0.9132 - val_loss: 0.6561 - val_accuracy: 0.8883\n",
      "Epoch 5/10\n",
      "380/380 [==============================] - 296s 780ms/step - loss: 0.6522 - accuracy: 0.8954 - val_loss: 0.6897 - val_accuracy: 0.8617\n",
      "Epoch 6/10\n",
      "380/380 [==============================] - 304s 800ms/step - loss: 0.6397 - accuracy: 0.9118 - val_loss: 0.7049 - val_accuracy: 0.8457\n",
      "Epoch 7/10\n",
      "380/380 [==============================] - 297s 782ms/step - loss: 0.6319 - accuracy: 0.9191 - val_loss: 0.6719 - val_accuracy: 0.8777\n",
      "Epoch 8/10\n",
      "380/380 [==============================] - 296s 778ms/step - loss: 0.6423 - accuracy: 0.9132 - val_loss: 0.6623 - val_accuracy: 0.8830\n",
      "Epoch 9/10\n",
      "380/380 [==============================] - 305s 801ms/step - loss: 0.6496 - accuracy: 0.9000 - val_loss: 0.6997 - val_accuracy: 0.8457\n",
      "Epoch 10/10\n",
      "380/380 [==============================] - 303s 798ms/step - loss: 0.6284 - accuracy: 0.9237 - val_loss: 0.6593 - val_accuracy: 0.8989\n"
     ]
    }
   ],
   "source": [
    "history3e = model3.fit(\n",
    "    train_data_gen2,\n",
    "    steps_per_epoch=380,\n",
    "    epochs=10,\n",
    "    validation_data=validation_data_gen2,\n",
    "    validation_steps=47\n",
    ")"
   ]
  },
  {
   "cell_type": "code",
   "execution_count": 400,
   "metadata": {},
   "outputs": [
    {
     "data": {
      "text/plain": [
       "<matplotlib.axes._subplots.AxesSubplot at 0x7f982c385ed0>"
      ]
     },
     "execution_count": 400,
     "metadata": {},
     "output_type": "execute_result"
    },
    {
     "data": {
      "image/png": "[encoded data removed]",
      "text/plain": [
       "<Figure size 1152x576 with 2 Axes>"
      ]
     },
     "metadata": {
      "image/png": {
       "height": 465,
       "width": 550
      }
     },
     "output_type": "display_data"
    }
   ],
   "source": [
    "pred3 = model3.predict_generator(test, len(test.filenames))\n",
    "pred3 = np.argmax(pred3,axis=1)\n",
    "sns.heatmap(metrics.confusion_matrix(pred3,test.classes), annot=True, square=True,\n",
    "             cmap='Blues',xticklabels=test.class_indices.keys(), yticklabels=test.class_indices.keys())"
   ]
  },
  {
   "cell_type": "markdown",
   "metadata": {},
   "source": [
    "## Network #4"
   ]
  },
  {
   "cell_type": "code",
   "execution_count": 15,
   "metadata": {},
   "outputs": [],
   "source": [
    "model4 = Sequential([\n",
    "    Conv2D(16, 3, padding='same', activation='relu', input_shape=(img_height, img_width ,3)),\n",
    "    MaxPooling2D(),\n",
    "    Conv2D(32, 3, padding='same', activation='relu'),\n",
    "    MaxPooling2D(),\n",
    "    Conv2D(64, 3, padding='same', activation='relu'),\n",
    "    MaxPooling2D(),\n",
    "    Conv2D(128, 3, padding='same', activation='relu'),\n",
    "    MaxPooling2D(),\n",
    "    Flatten(),\n",
    "    Dense(512, activation='relu'),\n",
    "    Dense(3, activation='softmax')\n",
    "])"
   ]
  },
  {
   "cell_type": "code",
   "execution_count": 16,
   "metadata": {},
   "outputs": [
    {
     "output_type": "stream",
     "name": "stdout",
     "text": [
      "Train for 380 steps, validate for 47 steps\n",
      "Epoch 1/30\n",
      "380/380 [==============================] - 115s 302ms/step - loss: 1.0971 - accuracy: 0.3579 - val_loss: 1.0922 - val_accuracy: 0.3777\n",
      "Epoch 2/30\n",
      "380/380 [==============================] - 115s 303ms/step - loss: 1.0874 - accuracy: 0.4204 - val_loss: 1.0674 - val_accuracy: 0.5851\n",
      "Epoch 3/30\n",
      "380/380 [==============================] - 115s 303ms/step - loss: 1.0495 - accuracy: 0.4914 - val_loss: 0.9877 - val_accuracy: 0.5745\n",
      "Epoch 4/30\n",
      "380/380 [==============================] - 116s 305ms/step - loss: 0.9874 - accuracy: 0.5309 - val_loss: 0.9629 - val_accuracy: 0.5426\n",
      "Epoch 5/30\n",
      "380/380 [==============================] - 149s 392ms/step - loss: 0.9555 - accuracy: 0.5743 - val_loss: 0.8983 - val_accuracy: 0.6330\n",
      "Epoch 6/30\n",
      "380/380 [==============================] - 141s 370ms/step - loss: 0.9248 - accuracy: 0.6026 - val_loss: 0.9033 - val_accuracy: 0.6223\n",
      "Epoch 7/30\n",
      "380/380 [==============================] - 137s 359ms/step - loss: 0.9224 - accuracy: 0.6000 - val_loss: 0.8746 - val_accuracy: 0.6862\n",
      "Epoch 8/30\n",
      "380/380 [==============================] - 119s 314ms/step - loss: 0.8961 - accuracy: 0.6342 - val_loss: 0.8718 - val_accuracy: 0.6702\n",
      "Epoch 9/30\n",
      "380/380 [==============================] - 120s 315ms/step - loss: 0.8977 - accuracy: 0.6309 - val_loss: 0.9392 - val_accuracy: 0.5957\n",
      "Epoch 10/30\n",
      "380/380 [==============================] - 120s 315ms/step - loss: 0.8852 - accuracy: 0.6546 - val_loss: 0.8755 - val_accuracy: 0.6649\n",
      "Epoch 11/30\n",
      "380/380 [==============================] - 120s 315ms/step - loss: 0.8746 - accuracy: 0.6717 - val_loss: 0.8572 - val_accuracy: 0.6809\n",
      "Epoch 12/30\n",
      "380/380 [==============================] - 130s 342ms/step - loss: 0.8702 - accuracy: 0.6651 - val_loss: 0.9020 - val_accuracy: 0.6170\n",
      "Epoch 13/30\n",
      "380/380 [==============================] - 117s 307ms/step - loss: 0.8789 - accuracy: 0.6533 - val_loss: 0.8371 - val_accuracy: 0.7021\n",
      "Epoch 14/30\n",
      "380/380 [==============================] - 123s 325ms/step - loss: 0.8532 - accuracy: 0.6888 - val_loss: 0.8226 - val_accuracy: 0.7128\n",
      "Epoch 15/30\n",
      "380/380 [==============================] - 139s 365ms/step - loss: 0.8457 - accuracy: 0.6961 - val_loss: 0.7954 - val_accuracy: 0.7713\n",
      "Epoch 16/30\n",
      "380/380 [==============================] - 127s 335ms/step - loss: 0.8384 - accuracy: 0.7072 - val_loss: 0.8043 - val_accuracy: 0.7340\n",
      "Epoch 17/30\n",
      "380/380 [==============================] - 120s 315ms/step - loss: 0.8353 - accuracy: 0.7053 - val_loss: 0.7704 - val_accuracy: 0.8032\n",
      "Epoch 18/30\n",
      "380/380 [==============================] - 120s 315ms/step - loss: 0.8245 - accuracy: 0.7217 - val_loss: 0.8162 - val_accuracy: 0.7340\n",
      "Epoch 19/30\n",
      "380/380 [==============================] - 119s 314ms/step - loss: 0.8181 - accuracy: 0.7211 - val_loss: 0.7507 - val_accuracy: 0.8245\n",
      "Epoch 20/30\n",
      "380/380 [==============================] - 120s 316ms/step - loss: 0.8217 - accuracy: 0.7204 - val_loss: 0.7565 - val_accuracy: 0.8032\n",
      "Epoch 21/30\n",
      "380/380 [==============================] - 121s 318ms/step - loss: 0.8074 - accuracy: 0.7362 - val_loss: 0.7497 - val_accuracy: 0.7926\n",
      "Epoch 22/30\n",
      "380/380 [==============================] - 121s 317ms/step - loss: 0.7874 - accuracy: 0.7526 - val_loss: 0.7504 - val_accuracy: 0.8032\n",
      "Epoch 23/30\n",
      "380/380 [==============================] - 120s 317ms/step - loss: 0.7800 - accuracy: 0.7684 - val_loss: 0.7673 - val_accuracy: 0.7979\n",
      "Epoch 24/30\n",
      "380/380 [==============================] - 120s 317ms/step - loss: 0.7675 - accuracy: 0.7776 - val_loss: 0.7209 - val_accuracy: 0.8245\n",
      "Epoch 25/30\n",
      "380/380 [==============================] - 121s 317ms/step - loss: 0.7618 - accuracy: 0.7862 - val_loss: 0.7161 - val_accuracy: 0.8404\n",
      "Epoch 26/30\n",
      "380/380 [==============================] - 121s 319ms/step - loss: 0.7680 - accuracy: 0.7842 - val_loss: 0.7230 - val_accuracy: 0.8298\n",
      "Epoch 27/30\n",
      "380/380 [==============================] - 123s 325ms/step - loss: 0.7446 - accuracy: 0.8020 - val_loss: 0.7236 - val_accuracy: 0.8032\n",
      "Epoch 28/30\n",
      "380/380 [==============================] - 123s 324ms/step - loss: 0.7624 - accuracy: 0.7842 - val_loss: 0.7503 - val_accuracy: 0.7979\n",
      "Epoch 29/30\n",
      "380/380 [==============================] - 128s 336ms/step - loss: 0.7449 - accuracy: 0.7954 - val_loss: 0.7084 - val_accuracy: 0.8511\n",
      "Epoch 30/30\n",
      "380/380 [==============================] - 125s 329ms/step - loss: 0.7425 - accuracy: 0.8053 - val_loss: 0.7581 - val_accuracy: 0.7979\n"
     ]
    }
   ],
   "source": [
    "model4.compile(optimizer='adam',\n",
    "              loss=tf.keras.losses.CategoricalCrossentropy(from_logits=True),\n",
    "              metrics=['accuracy'])\n",
    "model4.optimizer.epsilon = .1\n",
    "history = model4.fit(\n",
    "    train_data_gen2,\n",
    "    steps_per_epoch=380,\n",
    "    epochs=30,\n",
    "    validation_data=validation_data_gen2,\n",
    "    validation_steps=47\n",
    ")"
   ]
  },
  {
   "cell_type": "code",
   "execution_count": 18,
   "metadata": {},
   "outputs": [
    {
     "output_type": "stream",
     "name": "stdout",
     "text": [
      "INFO:tensorflow:Assets written to: model4/assets\n"
     ]
    }
   ],
   "source": [
    "model4.save('model4')"
   ]
  },
  {
   "cell_type": "code",
   "execution_count": 19,
   "metadata": {},
   "outputs": [
    {
     "output_type": "stream",
     "name": "stdout",
     "text": [
      "Train for 380 steps, validate for 47 steps\n",
      "Epoch 1/15\n",
      "380/380 [==============================] - 119s 312ms/step - loss: 0.7359 - accuracy: 0.8151 - val_loss: 0.7023 - val_accuracy: 0.8404\n",
      "Epoch 2/15\n",
      "380/380 [==============================] - 129s 339ms/step - loss: 0.7351 - accuracy: 0.8112 - val_loss: 0.7066 - val_accuracy: 0.8404\n",
      "Epoch 3/15\n",
      "380/380 [==============================] - 122s 320ms/step - loss: 0.7306 - accuracy: 0.8178 - val_loss: 0.6936 - val_accuracy: 0.8617\n",
      "Epoch 4/15\n",
      "380/380 [==============================] - 127s 334ms/step - loss: 0.7319 - accuracy: 0.8171 - val_loss: 0.6892 - val_accuracy: 0.8777\n",
      "Epoch 5/15\n",
      "380/380 [==============================] - 124s 327ms/step - loss: 0.7170 - accuracy: 0.8322 - val_loss: 0.6810 - val_accuracy: 0.8723\n",
      "Epoch 6/15\n",
      "380/380 [==============================] - 125s 329ms/step - loss: 0.7249 - accuracy: 0.8276 - val_loss: 0.7954 - val_accuracy: 0.7447\n",
      "Epoch 7/15\n",
      "380/380 [==============================] - 128s 336ms/step - loss: 0.7190 - accuracy: 0.8296 - val_loss: 0.6758 - val_accuracy: 0.8883\n",
      "Epoch 8/15\n",
      "380/380 [==============================] - 128s 336ms/step - loss: 0.7193 - accuracy: 0.8303 - val_loss: 0.6828 - val_accuracy: 0.8617\n",
      "Epoch 9/15\n",
      "380/380 [==============================] - 128s 336ms/step - loss: 0.7117 - accuracy: 0.8382 - val_loss: 0.6689 - val_accuracy: 0.8670\n",
      "Epoch 10/15\n",
      "380/380 [==============================] - 123s 325ms/step - loss: 0.7027 - accuracy: 0.8507 - val_loss: 0.7304 - val_accuracy: 0.8245\n",
      "Epoch 11/15\n",
      "380/380 [==============================] - 124s 326ms/step - loss: 0.7157 - accuracy: 0.8349 - val_loss: 0.7379 - val_accuracy: 0.7926\n",
      "Epoch 12/15\n",
      "380/380 [==============================] - 123s 325ms/step - loss: 0.7056 - accuracy: 0.8421 - val_loss: 0.6927 - val_accuracy: 0.8351\n",
      "Epoch 13/15\n",
      "380/380 [==============================] - 127s 333ms/step - loss: 0.7005 - accuracy: 0.8507 - val_loss: 0.6893 - val_accuracy: 0.8511\n",
      "Epoch 14/15\n",
      "380/380 [==============================] - 122s 321ms/step - loss: 0.6975 - accuracy: 0.8546 - val_loss: 0.6909 - val_accuracy: 0.8457\n",
      "Epoch 15/15\n",
      "380/380 [==============================] - 122s 322ms/step - loss: 0.6978 - accuracy: 0.8586 - val_loss: 0.7061 - val_accuracy: 0.8457\n"
     ]
    }
   ],
   "source": [
    "history4b = model4.fit(\n",
    "    train_data_gen2,\n",
    "    steps_per_epoch=380,\n",
    "    epochs=15,\n",
    "    validation_data=validation_data_gen2,\n",
    "    validation_steps=47\n",
    ")"
   ]
  },
  {
   "cell_type": "code",
   "execution_count": null,
   "metadata": {},
   "outputs": [],
   "source": [
    "model4.save('model4')"
   ]
  },
  {
   "cell_type": "code",
   "execution_count": 22,
   "metadata": {},
   "outputs": [
    {
     "output_type": "stream",
     "name": "stdout",
     "text": [
      "Train for 380 steps, validate for 47 steps\n",
      "Epoch 1/15\n",
      "380/380 [==============================] - 120s 316ms/step - loss: 0.6962 - accuracy: 0.8553 - val_loss: 0.6727 - val_accuracy: 0.8617\n",
      "Epoch 2/15\n",
      "380/380 [==============================] - 124s 325ms/step - loss: 0.6915 - accuracy: 0.8559 - val_loss: 0.7035 - val_accuracy: 0.8351\n",
      "Epoch 3/15\n",
      "380/380 [==============================] - 124s 326ms/step - loss: 0.6863 - accuracy: 0.8632 - val_loss: 0.6400 - val_accuracy: 0.9202\n",
      "Epoch 4/15\n",
      "380/380 [==============================] - 125s 329ms/step - loss: 0.6857 - accuracy: 0.8651 - val_loss: 0.6842 - val_accuracy: 0.8670\n",
      "Epoch 5/15\n",
      "380/380 [==============================] - 126s 332ms/step - loss: 0.6891 - accuracy: 0.8605 - val_loss: 0.6977 - val_accuracy: 0.8511\n",
      "Epoch 6/15\n",
      "380/380 [==============================] - 127s 334ms/step - loss: 0.6852 - accuracy: 0.8645 - val_loss: 0.7354 - val_accuracy: 0.8138\n",
      "Epoch 7/15\n",
      "380/380 [==============================] - 127s 334ms/step - loss: 0.6722 - accuracy: 0.8809 - val_loss: 0.6622 - val_accuracy: 0.8936\n",
      "Epoch 8/15\n",
      "380/380 [==============================] - 127s 335ms/step - loss: 0.6835 - accuracy: 0.8678 - val_loss: 0.6671 - val_accuracy: 0.8830\n",
      "Epoch 9/15\n",
      "380/380 [==============================] - 127s 333ms/step - loss: 0.6627 - accuracy: 0.8908 - val_loss: 0.6697 - val_accuracy: 0.8830\n",
      "Epoch 10/15\n",
      "380/380 [==============================] - 126s 332ms/step - loss: 0.6767 - accuracy: 0.8737 - val_loss: 0.6476 - val_accuracy: 0.8989\n",
      "Epoch 11/15\n",
      "380/380 [==============================] - 127s 334ms/step - loss: 0.6698 - accuracy: 0.8836 - val_loss: 0.6482 - val_accuracy: 0.8936\n",
      "Epoch 12/15\n",
      "380/380 [==============================] - 125s 330ms/step - loss: 0.6705 - accuracy: 0.8816 - val_loss: 0.6640 - val_accuracy: 0.8883\n",
      "Epoch 13/15\n",
      "380/380 [==============================] - 125s 329ms/step - loss: 0.6615 - accuracy: 0.8868 - val_loss: 0.6436 - val_accuracy: 0.9043\n",
      "Epoch 14/15\n",
      "380/380 [==============================] - 125s 330ms/step - loss: 0.6677 - accuracy: 0.8822 - val_loss: 0.6407 - val_accuracy: 0.9043\n",
      "Epoch 15/15\n",
      "380/380 [==============================] - 127s 334ms/step - loss: 0.6624 - accuracy: 0.8855 - val_loss: 0.6542 - val_accuracy: 0.8989\n"
     ]
    }
   ],
   "source": [
    "history4c = model4.fit(\n",
    "    train_data_gen2,\n",
    "    steps_per_epoch=380,\n",
    "    epochs=15,\n",
    "    validation_data=validation_data_gen2,\n",
    "    validation_steps=47\n",
    ")"
   ]
  },
  {
   "cell_type": "code",
   "execution_count": 23,
   "metadata": {},
   "outputs": [
    {
     "output_type": "stream",
     "name": "stdout",
     "text": [
      "INFO:tensorflow:Assets written to: model4/assets\n"
     ]
    }
   ],
   "source": [
    "model4.save('model4')"
   ]
  },
  {
   "cell_type": "code",
   "execution_count": 28,
   "metadata": {},
   "outputs": [
    {
     "output_type": "execute_result",
     "data": {
      "text/plain": [
       "<matplotlib.axes._subplots.AxesSubplot at 0x7fec39d96410>"
      ]
     },
     "metadata": {},
     "execution_count": 28
    },
    {
     "output_type": "display_data",
     "data": {
      "text/plain": "<Figure size 1152x576 with 2 Axes>",
      "image/png": "[encoded data removed]"
     },
     "metadata": {
      "image/png": {
       "width": 550,
       "height": 465
      }
     }
    }
   ],
   "source": [
    "pred4 = model4.predict_generator(test2a, len(test.filenames))\n",
    "pred4 = np.argmax(pred4,axis=1)\n",
    "sns.heatmap(metrics.confusion_matrix(pred4,test2a.classes), annot=True, square=True,\n",
    "             cmap='Blues',xticklabels=test2a.class_indices.keys(), yticklabels=test2a.class_indices.keys())"
   ]
  },
  {
   "cell_type": "markdown",
   "metadata": {},
   "source": [
    "## Network #5"
   ]
  },
  {
   "cell_type": "code",
   "execution_count": 12,
   "metadata": {},
   "outputs": [],
   "source": [
    "model5 = Sequential([\n",
    "    Conv2D(16, 3, padding='same', activation='relu', input_shape=(img_height, img_width ,3)),\n",
    "    MaxPooling2D(),\n",
    "    Conv2D(32, 3, padding='same', activation='relu'),\n",
    "    MaxPooling2D(),\n",
    "    Flatten(),\n",
    "    Dense(512, activation='relu'),\n",
    "    Dense(3, activation='softmax')\n",
    "])"
   ]
  },
  {
   "cell_type": "code",
   "execution_count": 13,
   "metadata": {},
   "outputs": [
    {
     "output_type": "stream",
     "name": "stdout",
     "text": [
      "Train for 380 steps, validate for 47 steps\n",
      "Epoch 1/30\n",
      "380/380 [==============================] - 277s 728ms/step - loss: 1.0987 - accuracy: 0.3526 - val_loss: 1.0779 - val_accuracy: 0.4255\n",
      "Epoch 2/30\n",
      "380/380 [==============================] - 285s 750ms/step - loss: 1.0771 - accuracy: 0.4289 - val_loss: 1.0385 - val_accuracy: 0.4787\n",
      "Epoch 3/30\n",
      "380/380 [==============================] - 289s 760ms/step - loss: 1.0445 - accuracy: 0.4783 - val_loss: 0.9793 - val_accuracy: 0.5745\n",
      "Epoch 4/30\n",
      "380/380 [==============================] - 282s 742ms/step - loss: 1.0159 - accuracy: 0.5007 - val_loss: 1.0073 - val_accuracy: 0.4947\n",
      "Epoch 5/30\n",
      "380/380 [==============================] - 281s 741ms/step - loss: 0.9780 - accuracy: 0.5263 - val_loss: 0.9286 - val_accuracy: 0.6383\n",
      "Epoch 6/30\n",
      "380/380 [==============================] - 283s 744ms/step - loss: 0.9566 - accuracy: 0.5645 - val_loss: 0.9164 - val_accuracy: 0.5851\n",
      "Epoch 7/30\n",
      "380/380 [==============================] - 295s 775ms/step - loss: 0.9447 - accuracy: 0.5776 - val_loss: 0.9223 - val_accuracy: 0.6330\n",
      "Epoch 8/30\n",
      "380/380 [==============================] - 288s 758ms/step - loss: 0.9309 - accuracy: 0.5921 - val_loss: 0.8678 - val_accuracy: 0.7181\n",
      "Epoch 9/30\n",
      "380/380 [==============================] - 288s 757ms/step - loss: 0.9195 - accuracy: 0.6158 - val_loss: 0.8714 - val_accuracy: 0.6543\n",
      "Epoch 10/30\n",
      "380/380 [==============================] - 287s 756ms/step - loss: 0.8988 - accuracy: 0.6303 - val_loss: 0.8564 - val_accuracy: 0.6968\n",
      "Epoch 11/30\n",
      "380/380 [==============================] - 286s 753ms/step - loss: 0.9011 - accuracy: 0.6289 - val_loss: 0.8177 - val_accuracy: 0.7234\n",
      "Epoch 12/30\n",
      "380/380 [==============================] - 288s 759ms/step - loss: 0.8884 - accuracy: 0.6467 - val_loss: 0.8137 - val_accuracy: 0.7447\n",
      "Epoch 13/30\n",
      "380/380 [==============================] - 287s 756ms/step - loss: 0.8826 - accuracy: 0.6579 - val_loss: 0.8462 - val_accuracy: 0.6809\n",
      "Epoch 14/30\n",
      "380/380 [==============================] - 288s 758ms/step - loss: 0.8851 - accuracy: 0.6408 - val_loss: 0.8173 - val_accuracy: 0.7287\n",
      "Epoch 15/30\n",
      "380/380 [==============================] - 288s 759ms/step - loss: 0.8600 - accuracy: 0.6842 - val_loss: 0.8595 - val_accuracy: 0.6649\n",
      "Epoch 16/30\n",
      "380/380 [==============================] - 292s 769ms/step - loss: 0.8607 - accuracy: 0.6809 - val_loss: 0.8489 - val_accuracy: 0.6702\n",
      "Epoch 17/30\n",
      "380/380 [==============================] - 294s 775ms/step - loss: 0.8525 - accuracy: 0.6947 - val_loss: 0.8108 - val_accuracy: 0.7447\n",
      "Epoch 18/30\n",
      "380/380 [==============================] - 293s 771ms/step - loss: 0.8464 - accuracy: 0.6921 - val_loss: 0.8145 - val_accuracy: 0.7287\n",
      "Epoch 19/30\n",
      "380/380 [==============================] - 287s 755ms/step - loss: 0.8423 - accuracy: 0.7000 - val_loss: 0.8000 - val_accuracy: 0.7872\n",
      "Epoch 20/30\n",
      "380/380 [==============================] - 287s 755ms/step - loss: 0.8312 - accuracy: 0.7151 - val_loss: 0.7896 - val_accuracy: 0.7500\n",
      "Epoch 21/30\n",
      "380/380 [==============================] - 288s 758ms/step - loss: 0.8266 - accuracy: 0.7237 - val_loss: 0.9243 - val_accuracy: 0.6223\n",
      "Epoch 22/30\n",
      "380/380 [==============================] - 297s 783ms/step - loss: 0.8545 - accuracy: 0.6809 - val_loss: 0.7997 - val_accuracy: 0.7447\n",
      "Epoch 23/30\n",
      "380/380 [==============================] - 292s 767ms/step - loss: 0.8197 - accuracy: 0.7243 - val_loss: 0.7614 - val_accuracy: 0.7979\n",
      "Epoch 24/30\n",
      "380/380 [==============================] - 291s 766ms/step - loss: 0.8146 - accuracy: 0.7349 - val_loss: 0.7587 - val_accuracy: 0.8085\n",
      "Epoch 25/30\n",
      "380/380 [==============================] - 291s 767ms/step - loss: 0.8005 - accuracy: 0.7382 - val_loss: 0.7657 - val_accuracy: 0.8085\n",
      "Epoch 26/30\n",
      "380/380 [==============================] - 292s 769ms/step - loss: 0.7924 - accuracy: 0.7533 - val_loss: 0.7448 - val_accuracy: 0.8085\n",
      "Epoch 27/30\n",
      "380/380 [==============================] - 287s 754ms/step - loss: 0.7896 - accuracy: 0.7559 - val_loss: 0.7465 - val_accuracy: 0.8085\n",
      "Epoch 28/30\n",
      "380/380 [==============================] - 296s 780ms/step - loss: 0.7993 - accuracy: 0.7520 - val_loss: 0.7334 - val_accuracy: 0.8138\n",
      "Epoch 29/30\n",
      "380/380 [==============================] - 296s 778ms/step - loss: 0.7779 - accuracy: 0.7750 - val_loss: 0.8731 - val_accuracy: 0.6649\n",
      "Epoch 30/30\n",
      "380/380 [==============================] - 291s 766ms/step - loss: 0.7964 - accuracy: 0.7493 - val_loss: 0.7641 - val_accuracy: 0.7819\n"
     ]
    },
    {
     "output_type": "execute_result",
     "data": {
      "text/plain": [
       "<tensorflow.python.keras.callbacks.History at 0x7fec75809550>"
      ]
     },
     "metadata": {},
     "execution_count": 13
    }
   ],
   "source": [
    "model5.compile(optimizer='adam',\n",
    "              loss=tf.keras.losses.CategoricalCrossentropy(from_logits=True),\n",
    "              metrics=['accuracy'])\n",
    "model5.optimizer.epsilon = .1\n",
    "model5.fit(\n",
    "    train_data_gen2,\n",
    "    steps_per_epoch=380,\n",
    "    epochs=30,\n",
    "    validation_data=validation_data_gen2,\n",
    "    validation_steps=47\n",
    ")"
   ]
  },
  {
   "cell_type": "code",
   "execution_count": 14,
   "metadata": {},
   "outputs": [
    {
     "output_type": "stream",
     "name": "stdout",
     "text": [
      "WARNING:tensorflow:From /opt/anaconda3/lib/python3.7/site-packages/tensorflow_core/python/ops/resource_variable_ops.py:1781: calling BaseResourceVariable.__init__ (from tensorflow.python.ops.resource_variable_ops) with constraint is deprecated and will be removed in a future version.\n",
      "Instructions for updating:\n",
      "If using Keras pass *_constraint arguments to layers.\n",
      "INFO:tensorflow:Assets written to: model5/assets\n"
     ]
    }
   ],
   "source": [
    "model5.save('model5')"
   ]
  },
  {
   "cell_type": "code",
   "execution_count": 20,
   "metadata": {},
   "outputs": [
    {
     "output_type": "stream",
     "name": "stdout",
     "text": [
      "Train for 380 steps, validate for 47 steps\n",
      "Epoch 1/30\n",
      "380/380 [==============================] - 297s 781ms/step - loss: 0.7768 - accuracy: 0.7612 - val_loss: 0.8165 - val_accuracy: 0.7340\n",
      "Epoch 2/30\n",
      "380/380 [==============================] - 310s 815ms/step - loss: 0.7807 - accuracy: 0.7658 - val_loss: 0.7483 - val_accuracy: 0.8032\n",
      "Epoch 3/30\n",
      "380/380 [==============================] - 310s 816ms/step - loss: 0.7889 - accuracy: 0.7539 - val_loss: 0.7538 - val_accuracy: 0.8032\n",
      "Epoch 4/30\n",
      "380/380 [==============================] - 297s 783ms/step - loss: 0.7799 - accuracy: 0.7678 - val_loss: 0.7473 - val_accuracy: 0.8085\n",
      "Epoch 5/30\n",
      "380/380 [==============================] - 294s 773ms/step - loss: 0.7696 - accuracy: 0.7750 - val_loss: 0.7384 - val_accuracy: 0.8245\n",
      "Epoch 6/30\n",
      "380/380 [==============================] - 296s 778ms/step - loss: 0.7684 - accuracy: 0.7789 - val_loss: 0.7245 - val_accuracy: 0.8298\n",
      "Epoch 7/30\n",
      "380/380 [==============================] - 296s 779ms/step - loss: 0.7667 - accuracy: 0.7809 - val_loss: 0.8224 - val_accuracy: 0.7128\n",
      "Epoch 8/30\n",
      "380/380 [==============================] - 290s 764ms/step - loss: 0.7662 - accuracy: 0.7809 - val_loss: 0.7443 - val_accuracy: 0.7872\n",
      "Epoch 9/30\n",
      "380/380 [==============================] - 286s 753ms/step - loss: 0.7647 - accuracy: 0.7836 - val_loss: 0.7145 - val_accuracy: 0.8245\n",
      "Epoch 10/30\n",
      "380/380 [==============================] - 286s 752ms/step - loss: 0.7550 - accuracy: 0.7987 - val_loss: 0.8060 - val_accuracy: 0.7181\n",
      "Epoch 11/30\n",
      "380/380 [==============================] - 285s 751ms/step - loss: 0.7527 - accuracy: 0.7974 - val_loss: 0.7147 - val_accuracy: 0.8245\n",
      "Epoch 12/30\n",
      "380/380 [==============================] - 285s 751ms/step - loss: 0.7470 - accuracy: 0.8046 - val_loss: 0.8080 - val_accuracy: 0.7500\n",
      "Epoch 13/30\n",
      "380/380 [==============================] - 286s 752ms/step - loss: 0.7586 - accuracy: 0.7855 - val_loss: 0.7991 - val_accuracy: 0.7340\n",
      "Epoch 14/30\n",
      "380/380 [==============================] - 286s 752ms/step - loss: 0.7371 - accuracy: 0.8171 - val_loss: 0.6945 - val_accuracy: 0.8511\n",
      "Epoch 15/30\n",
      "380/380 [==============================] - 285s 751ms/step - loss: 0.7380 - accuracy: 0.8164 - val_loss: 0.7184 - val_accuracy: 0.8351\n",
      "Epoch 16/30\n",
      "380/380 [==============================] - 312s 821ms/step - loss: 0.7352 - accuracy: 0.8086 - val_loss: 0.7269 - val_accuracy: 0.8298\n",
      "Epoch 17/30\n",
      "380/380 [==============================] - 296s 779ms/step - loss: 0.7317 - accuracy: 0.8184 - val_loss: 0.7180 - val_accuracy: 0.8085\n",
      "Epoch 18/30\n",
      "380/380 [==============================] - 305s 802ms/step - loss: 0.7287 - accuracy: 0.8184 - val_loss: 0.7035 - val_accuracy: 0.8404\n",
      "Epoch 19/30\n",
      "380/380 [==============================] - 277s 729ms/step - loss: 0.7445 - accuracy: 0.7987 - val_loss: 0.7056 - val_accuracy: 0.8351\n",
      "Epoch 20/30\n",
      "380/380 [==============================] - 277s 728ms/step - loss: 0.7213 - accuracy: 0.8263 - val_loss: 0.7350 - val_accuracy: 0.7979\n",
      "Epoch 21/30\n",
      "380/380 [==============================] - 277s 730ms/step - loss: 0.7119 - accuracy: 0.8349 - val_loss: 0.7199 - val_accuracy: 0.8138\n",
      "Epoch 22/30\n",
      "380/380 [==============================] - 278s 731ms/step - loss: 0.7171 - accuracy: 0.8296 - val_loss: 0.6845 - val_accuracy: 0.8777\n",
      "Epoch 23/30\n",
      "380/380 [==============================] - 289s 762ms/step - loss: 0.7177 - accuracy: 0.8349 - val_loss: 0.7034 - val_accuracy: 0.8404\n",
      "Epoch 24/30\n",
      "380/380 [==============================] - 289s 761ms/step - loss: 0.7199 - accuracy: 0.8276 - val_loss: 0.7127 - val_accuracy: 0.8404\n",
      "Epoch 25/30\n",
      "380/380 [==============================] - 290s 763ms/step - loss: 0.7281 - accuracy: 0.8171 - val_loss: 0.7277 - val_accuracy: 0.8191\n",
      "Epoch 26/30\n",
      "380/380 [==============================] - 289s 760ms/step - loss: 0.7204 - accuracy: 0.8303 - val_loss: 0.7072 - val_accuracy: 0.8298\n",
      "Epoch 27/30\n",
      "380/380 [==============================] - 290s 762ms/step - loss: 0.7205 - accuracy: 0.8316 - val_loss: 0.6883 - val_accuracy: 0.8723\n",
      "Epoch 28/30\n",
      "380/380 [==============================] - 292s 767ms/step - loss: 0.7059 - accuracy: 0.8421 - val_loss: 0.6836 - val_accuracy: 0.8617\n",
      "Epoch 29/30\n",
      "380/380 [==============================] - 291s 766ms/step - loss: 0.7033 - accuracy: 0.8474 - val_loss: 0.7142 - val_accuracy: 0.8404\n",
      "Epoch 30/30\n",
      "380/380 [==============================] - 290s 764ms/step - loss: 0.7121 - accuracy: 0.8401 - val_loss: 0.7003 - val_accuracy: 0.8457\n"
     ]
    }
   ],
   "source": [
    "history5b = model5.fit(\n",
    "    train_data_gen2,\n",
    "    steps_per_epoch=380,\n",
    "    epochs=30,\n",
    "    validation_data=validation_data_gen2,\n",
    "    validation_steps=47\n",
    ")"
   ]
  },
  {
   "cell_type": "code",
   "execution_count": 21,
   "metadata": {},
   "outputs": [
    {
     "output_type": "stream",
     "name": "stdout",
     "text": [
      "INFO:tensorflow:Assets written to: model5/assets\n"
     ]
    }
   ],
   "source": [
    "model5.save('model5')"
   ]
  },
  {
   "cell_type": "code",
   "execution_count": 29,
   "metadata": {},
   "outputs": [
    {
     "output_type": "stream",
     "name": "stdout",
     "text": [
      "Train for 380 steps, validate for 47 steps\n",
      "Epoch 1/15\n",
      "380/380 [==============================] - 304s 800ms/step - loss: 0.7007 - accuracy: 0.8513 - val_loss: 0.7512 - val_accuracy: 0.7872\n",
      "Epoch 2/15\n",
      "380/380 [==============================] - 303s 798ms/step - loss: 0.7089 - accuracy: 0.8382 - val_loss: 0.7029 - val_accuracy: 0.8511\n",
      "Epoch 3/15\n",
      "380/380 [==============================] - 297s 781ms/step - loss: 0.7129 - accuracy: 0.8316 - val_loss: 0.6804 - val_accuracy: 0.8723\n",
      "Epoch 4/15\n",
      "380/380 [==============================] - 295s 776ms/step - loss: 0.6907 - accuracy: 0.8612 - val_loss: 0.7005 - val_accuracy: 0.8511\n",
      "Epoch 5/15\n",
      "380/380 [==============================] - 292s 769ms/step - loss: 0.7049 - accuracy: 0.8421 - val_loss: 0.7021 - val_accuracy: 0.8511\n",
      "Epoch 6/15\n",
      "380/380 [==============================] - 293s 771ms/step - loss: 0.6958 - accuracy: 0.8539 - val_loss: 0.6770 - val_accuracy: 0.8617\n",
      "Epoch 7/15\n",
      "380/380 [==============================] - 289s 760ms/step - loss: 0.6954 - accuracy: 0.8526 - val_loss: 0.6811 - val_accuracy: 0.8830\n",
      "Epoch 8/15\n",
      "380/380 [==============================] - 290s 764ms/step - loss: 0.6989 - accuracy: 0.8513 - val_loss: 0.7030 - val_accuracy: 0.8457\n",
      "Epoch 9/15\n",
      "380/380 [==============================] - 291s 766ms/step - loss: 0.6951 - accuracy: 0.8579 - val_loss: 0.6976 - val_accuracy: 0.8511\n",
      "Epoch 10/15\n",
      "380/380 [==============================] - 290s 763ms/step - loss: 0.6966 - accuracy: 0.8526 - val_loss: 0.7219 - val_accuracy: 0.8245\n",
      "Epoch 11/15\n",
      "380/380 [==============================] - 291s 765ms/step - loss: 0.6991 - accuracy: 0.8461 - val_loss: 0.6885 - val_accuracy: 0.8457\n",
      "Epoch 12/15\n",
      "380/380 [==============================] - 290s 763ms/step - loss: 0.6815 - accuracy: 0.8658 - val_loss: 0.7122 - val_accuracy: 0.8351\n",
      "Epoch 13/15\n",
      "380/380 [==============================] - 292s 767ms/step - loss: 0.6880 - accuracy: 0.8618 - val_loss: 0.6921 - val_accuracy: 0.8617\n",
      "Epoch 14/15\n",
      "380/380 [==============================] - 290s 764ms/step - loss: 0.6763 - accuracy: 0.8796 - val_loss: 0.7372 - val_accuracy: 0.8032\n",
      "Epoch 15/15\n",
      "380/380 [==============================] - 292s 769ms/step - loss: 0.6908 - accuracy: 0.8592 - val_loss: 0.7039 - val_accuracy: 0.8404\n"
     ]
    }
   ],
   "source": [
    "history5c = model5.fit(\n",
    "    train_data_gen2,\n",
    "    steps_per_epoch=380,\n",
    "    epochs=15,\n",
    "    validation_data=validation_data_gen2,\n",
    "    validation_steps=47\n",
    ")"
   ]
  },
  {
   "cell_type": "code",
   "execution_count": null,
   "metadata": {},
   "outputs": [],
   "source": [
    "from texter import send\n",
    "send('Done with CNN training!')"
   ]
  },
  {
   "cell_type": "code",
   "execution_count": 30,
   "metadata": {},
   "outputs": [
    {
     "output_type": "stream",
     "name": "stdout",
     "text": [
      "INFO:tensorflow:Assets written to: model5/assets\n"
     ]
    }
   ],
   "source": [
    "model5.save('model5')"
   ]
  },
  {
   "cell_type": "code",
   "execution_count": 31,
   "metadata": {},
   "outputs": [
    {
     "output_type": "execute_result",
     "data": {
      "text/plain": [
       "<matplotlib.axes._subplots.AxesSubplot at 0x7febe5321d10>"
      ]
     },
     "metadata": {},
     "execution_count": 31
    },
    {
     "output_type": "display_data",
     "data": {
      "text/plain": "<Figure size 1152x576 with 2 Axes>",
      "image/png": "[encoded data removed]"
     },
     "metadata": {
      "image/png": {
       "width": 550,
       "height": 465
      }
     }
    }
   ],
   "source": [
    "pred5 = model5.predict_generator(test2a, len(test.filenames))\n",
    "pred5 = np.argmax(pred5,axis=1)\n",
    "sns.heatmap(metrics.confusion_matrix(pred5,test2a.classes), annot=True, square=True,\n",
    "             cmap='Blues',xticklabels=test2a.class_indices.keys(), yticklabels=test2a.class_indices.keys())"
   ]
  },
  {
   "cell_type": "markdown",
   "metadata": {},
   "source": [
    "## Evaluation and Selection"
   ]
  },
  {
   "cell_type": "markdown",
   "metadata": {},
   "source": [
    "We had five models: Two three layer CNNs based on a binary classifier, the latter trained with image augmentation, a version of the Xception network, and two other CNN variants, one with two layers and one with four. Because my goal was to find a suitable network that I could train locally, compute time was almost as important a consideration for me as accuracy. \n",
    "\n",
    "Model 1 overfit pretty quickly. Adding image augmentaion to subsequent networks greatly improved accuracy by preventing overfitting while the network learned. Models 2, 3, 4, and 5 all did fairly well at classifying the images, but 3 and 5 were slower to train and did not achieve as much accuracy as 2 and 4.\n",
    "\n",
    "Ultimately, Model #4 provided the best balance of classification performance and training time. Its performance was almost identical to network 2 but it was faster train."
   ]
  },
  {
   "source": [
    "### Winner: Network #4"
   ],
   "cell_type": "markdown",
   "metadata": {}
  },
  {
   "cell_type": "code",
   "execution_count": null,
   "metadata": {},
   "outputs": [],
   "source": []
  }
 ],
 "metadata": {
  "kernelspec": {
   "display_name": "Python 3",
   "language": "python",
   "name": "python3"
  },
  "language_info": {
   "codemirror_mode": {
    "name": "ipython",
    "version": 3
   },
   "file_extension": ".py",
   "mimetype": "text/x-python",
   "name": "python",
   "nbconvert_exporter": "python",
   "pygments_lexer": "ipython3",
   "version": "3.7.8-final"
  }
 },
 "nbformat": 4,
 "nbformat_minor": 4
}